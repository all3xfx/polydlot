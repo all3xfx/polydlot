{
 "cells": [
  {
   "cell_type": "markdown",
   "metadata": {},
   "source": [
    "# MNIST Digit Classification - FCN"
   ]
  },
  {
   "cell_type": "code",
   "execution_count": 1,
   "metadata": {
    "collapsed": false
   },
   "outputs": [],
   "source": [
    "from __future__ import division, print_function\n",
    "from sklearn.metrics import accuracy_score, confusion_matrix\n",
    "import matplotlib.pyplot as plt\n",
    "import numpy as np\n",
    "import theano\n",
    "import theano.tensor as T\n",
    "import os\n",
    "%matplotlib inline"
   ]
  },
  {
   "cell_type": "code",
   "execution_count": 2,
   "metadata": {
    "collapsed": false
   },
   "outputs": [],
   "source": [
    "DATA_DIR = \"../../data\"\n",
    "TRAIN_FILE = os.path.join(DATA_DIR, \"mnist_train.csv\")\n",
    "TEST_FILE = os.path.join(DATA_DIR, \"mnist_test.csv\")\n",
    "\n",
    "MODEL_FILE = os.path.join(DATA_DIR, \"theano-mnist-fcn\")\n",
    "\n",
    "LEARNING_RATE = 0.001\n",
    "REG_LAMBDA = 0.01\n",
    "\n",
    "INPUT_SIZE = 28*28\n",
    "BATCH_SIZE = 128\n",
    "NUM_CLASSES = 10\n",
    "NUM_EPOCHS = 10000"
   ]
  },
  {
   "cell_type": "markdown",
   "metadata": {},
   "source": [
    "## Prepare Data"
   ]
  },
  {
   "cell_type": "code",
   "execution_count": 3,
   "metadata": {
    "collapsed": false
   },
   "outputs": [
    {
     "name": "stdout",
     "output_type": "stream",
     "text": [
      "mnist_train.csv: 0 lines read\n",
      "mnist_train.csv: 10000 lines read\n",
      "mnist_train.csv: 20000 lines read\n",
      "mnist_train.csv: 30000 lines read\n",
      "mnist_train.csv: 40000 lines read\n",
      "mnist_train.csv: 50000 lines read\n",
      "mnist_train.csv: 60000 lines read\n",
      "mnist_test.csv: 0 lines read\n",
      "mnist_test.csv: 10000 lines read\n",
      "(60000, 784) (60000,) (10000, 784) (10000,)\n"
     ]
    }
   ],
   "source": [
    "def parse_file(filename):\n",
    "    xdata, ydata = [], []\n",
    "    fin = open(filename, \"rb\")\n",
    "    i = 0\n",
    "    for line in fin:\n",
    "        if i % 10000 == 0:\n",
    "            print(\"{:s}: {:d} lines read\".format(\n",
    "                os.path.basename(filename), i))\n",
    "        cols = line.strip().split(\",\")\n",
    "        ydata.append(int(cols[0]))\n",
    "        xdata.append([float(x) / 255. for x in cols[1:]])\n",
    "#         xdata.append([float(x) for x in cols[1:]])\n",
    "        i += 1\n",
    "    fin.close()\n",
    "    print(\"{:s}: {:d} lines read\".format(os.path.basename(filename), i))\n",
    "    X = np.array(xdata).astype(\"float32\")\n",
    "    y = np.array(ydata).astype(\"int32\")\n",
    "    return X, y\n",
    "\n",
    "Xtrain, ytrain = parse_file(TRAIN_FILE)\n",
    "Xtest, ytest = parse_file(TEST_FILE)\n",
    "print(Xtrain.shape, ytrain.shape, Xtest.shape, ytest.shape)"
   ]
  },
  {
   "cell_type": "markdown",
   "metadata": {},
   "source": [
    "## Define Network"
   ]
  },
  {
   "cell_type": "code",
   "execution_count": 4,
   "metadata": {
    "collapsed": true
   },
   "outputs": [],
   "source": [
    "X = T.matrix('X')\n",
    "y = T.lvector('y')"
   ]
  },
  {
   "cell_type": "code",
   "execution_count": 5,
   "metadata": {
    "collapsed": true
   },
   "outputs": [],
   "source": [
    "W1 = theano.shared(np.random.randn(INPUT_SIZE, 128), name=\"W1\")\n",
    "b1 = theano.shared(np.zeros(128), name=\"b1\")\n",
    "\n",
    "W2 = theano.shared(np.random.randn(128, 64), name=\"W2\")\n",
    "b2 = theano.shared(np.zeros(64), name=\"b2\")\n",
    "\n",
    "W3 = theano.shared(np.random.randn(64, NUM_CLASSES), name=\"W3\")\n",
    "b3 = theano.shared(np.zeros(NUM_CLASSES), name=\"b3\")"
   ]
  },
  {
   "cell_type": "code",
   "execution_count": 6,
   "metadata": {
    "collapsed": false
   },
   "outputs": [],
   "source": [
    "# FC1: 784 => 128\n",
    "z1 = X.dot(W1) + b1\n",
    "a1 = T.nnet.relu(z1)\n",
    "# FC2: 128 => 64\n",
    "z2 = a1.dot(W2) + b2\n",
    "a2 = T.nnet.relu(z2)\n",
    "# FC3: 64 => 10\n",
    "z3 = a2.dot(W3) + b3\n",
    "y_hat = T.nnet.softmax(z3)"
   ]
  },
  {
   "cell_type": "code",
   "execution_count": 7,
   "metadata": {
    "collapsed": false
   },
   "outputs": [],
   "source": [
    "loss_reg = (REG_LAMBDA/(2*len(Xtrain))) * (T.sum(T.sqr(W1)) + \n",
    "                                           T.sum(T.sqr(W2)) +\n",
    "                                           T.sum(T.sqr(W3))) \n",
    "loss = T.nnet.categorical_crossentropy(y_hat, y).mean() + loss_reg\n",
    "prediction = T.argmax(y_hat, axis=1)"
   ]
  },
  {
   "cell_type": "code",
   "execution_count": 8,
   "metadata": {
    "collapsed": false
   },
   "outputs": [],
   "source": [
    "forward_prop = theano.function([X], y_hat)\n",
    "calculate_loss = theano.function([X, y], loss)\n",
    "predict = theano.function([X], prediction)"
   ]
  },
  {
   "cell_type": "code",
   "execution_count": 9,
   "metadata": {
    "collapsed": false
   },
   "outputs": [],
   "source": [
    "# self-check on model\n",
    "# forward_prop(np.random.randn(10, 784))"
   ]
  },
  {
   "cell_type": "code",
   "execution_count": 10,
   "metadata": {
    "collapsed": true
   },
   "outputs": [],
   "source": [
    "dW3 = T.grad(loss, W3)\n",
    "db3 = T.grad(loss, b3)\n",
    "dW2 = T.grad(loss, W2)\n",
    "db2 = T.grad(loss, b2)\n",
    "dW1 = T.grad(loss, W1)\n",
    "db1 = T.grad(loss, b1)"
   ]
  },
  {
   "cell_type": "code",
   "execution_count": 11,
   "metadata": {
    "collapsed": false
   },
   "outputs": [],
   "source": [
    "gradient_step = theano.function(\n",
    "    [X, y],\n",
    "    updates=((W3, W3 - LEARNING_RATE * dW3),\n",
    "             (W2, W2 - LEARNING_RATE * dW2),\n",
    "             (W1, W1 - LEARNING_RATE * dW1),\n",
    "             (b3, b3 - LEARNING_RATE * db3),\n",
    "             (b2, b2 - LEARNING_RATE * db2),\n",
    "             (b1, b1 - LEARNING_RATE * db1)))"
   ]
  },
  {
   "cell_type": "markdown",
   "metadata": {},
   "source": [
    "## Train Network"
   ]
  },
  {
   "cell_type": "code",
   "execution_count": 12,
   "metadata": {
    "collapsed": false
   },
   "outputs": [
    {
     "name": "stdout",
     "output_type": "stream",
     "text": [
      "Epoch 1000/10000: loss=0.0471, accuracy: 0.7168\n",
      "Epoch 2000/10000: loss=0.0221, accuracy: 0.7322\n",
      "Epoch 3000/10000: loss=0.0106, accuracy: 0.7428\n",
      "Epoch 4000/10000: loss=0.0092, accuracy: 0.7315\n",
      "Epoch 5000/10000: loss=0.0091, accuracy: 0.7353\n",
      "Epoch 6000/10000: loss=0.0062, accuracy: 0.7353\n",
      "Epoch 7000/10000: loss=0.0036, accuracy: 0.6765\n",
      "Epoch 8000/10000: loss=0.0018, accuracy: 0.7272\n",
      "Epoch 9000/10000: loss=0.0025, accuracy: 0.7382\n",
      "Epoch 10000/10000: loss=0.0029, accuracy: 0.6567\n"
     ]
    }
   ],
   "source": [
    "history = []\n",
    "num_batches = len(Xtrain) // BATCH_SIZE\n",
    "for epoch in range(NUM_EPOCHS):\n",
    "    shuffled_indices = np.random.permutation(np.arange(len(Xtrain)))\n",
    "    total_loss, total_acc = 0., 0.\n",
    "    for bid in range(num_batches - 1):\n",
    "        bstart = bid * BATCH_SIZE\n",
    "        bend = (bid + 1) * BATCH_SIZE\n",
    "        Xbatch = [Xtrain[i] for i in shuffled_indices[bstart:bend]]\n",
    "        ybatch = [ytrain[i] for i in shuffled_indices[bstart:bend]]\n",
    "        gradient_step(Xbatch, ybatch)\n",
    "        total_loss += calculate_loss(Xbatch, ybatch)\n",
    "        break\n",
    "    total_loss /= num_batches\n",
    "    # validate with 10% training data\n",
    "    val_indices = shuffled_indices[0:len(Xtrain)//10]\n",
    "    Xval = [Xtrain[i] for i in val_indices]\n",
    "    yval = [ytrain[i] for i in val_indices]\n",
    "    yval_ = predict(Xval)\n",
    "    total_acc = accuracy_score(yval_, yval)\n",
    "    history.append((total_loss, total_acc))\n",
    "    if (epoch + 1) % 1000 == 0:\n",
    "        print(\"Epoch {:d}/{:d}: loss={:.4f}, accuracy: {:.4f}\".format(\n",
    "            epoch+1, NUM_EPOCHS, total_loss, total_acc))    "
   ]
  },
  {
   "cell_type": "code",
   "execution_count": 13,
   "metadata": {
    "collapsed": false
   },
   "outputs": [
    {
     "data": {
      "image/png": "[encoded data removed]",
      "text/plain": [
       "<matplotlib.figure.Figure at 0x11856b690>"
      ]
     },
     "metadata": {},
     "output_type": "display_data"
    }
   ],
   "source": [
    "losses = [x[0] for x in history]\n",
    "accs = [x[1] for x in history]\n",
    "\n",
    "plt.subplot(211)\n",
    "plt.title(\"Accuracy\")\n",
    "plt.plot(accs)\n",
    "\n",
    "plt.subplot(212)\n",
    "plt.title(\"Loss\")\n",
    "plt.plot(losses)\n",
    "\n",
    "plt.tight_layout()\n",
    "plt.show()"
   ]
  },
  {
   "cell_type": "markdown",
   "metadata": {},
   "source": [
    "## Evaluate Network"
   ]
  },
  {
   "cell_type": "code",
   "execution_count": 14,
   "metadata": {
    "collapsed": false
   },
   "outputs": [
    {
     "name": "stdout",
     "output_type": "stream",
     "text": [
      "accuracy: 0.656\n",
      "confusion matrix\n",
      "[[ 814    1   33   17    1   35   12    9   13   10]\n",
      " [   0 1065   43   10    6    3    1   28   11    6]\n",
      " [   4    3  143    6    1    2    2    1    5    1]\n",
      " [  57   23  236  835   15  260   10   87   57   24]\n",
      " [   2    1   10    3  453    7   23    5    6   13]\n",
      " [   9    3    6    8    1  291    7    4   11    2]\n",
      " [  61    5  207   17   86   69  837    2   53   25]\n",
      " [   3    2   10   11    2    4    1  486    6   17]\n",
      " [  25   26  307   80   46  190   49   34  770   42]\n",
      " [   5    6   37   23  371   31   16  372   42  869]]\n"
     ]
    }
   ],
   "source": [
    "ytest_ = predict(Xtest)\n",
    "acc = accuracy_score(ytest_, ytest)\n",
    "cm = confusion_matrix(ytest_, ytest)\n",
    "print(\"accuracy: {:.3f}\".format(acc))\n",
    "print(\"confusion matrix\")\n",
    "print(cm)"
   ]
  },
  {
   "cell_type": "code",
   "execution_count": null,
   "metadata": {
    "collapsed": true
   },
   "outputs": [],
   "source": []
  }
 ],
 "metadata": {
  "kernelspec": {
   "display_name": "Python 2",
   "language": "python",
   "name": "python2"
  },
  "language_info": {
   "codemirror_mode": {
    "name": "ipython",
    "version": 2
   },
   "file_extension": ".py",
   "mimetype": "text/x-python",
   "name": "python",
   "nbconvert_exporter": "python",
   "pygments_lexer": "ipython2",
   "version": "2.7.13"
  }
 },
 "nbformat": 4,
 "nbformat_minor": 2
}
