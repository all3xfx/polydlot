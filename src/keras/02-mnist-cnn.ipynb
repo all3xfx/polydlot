{
 "cells": [
  {
   "cell_type": "markdown",
   "metadata": {},
   "source": [
    "# MNIST Digit Classification - Convolutional Neural Network"
   ]
  },
  {
   "cell_type": "code",
   "execution_count": 1,
   "metadata": {
    "collapsed": false
   },
   "outputs": [
    {
     "name": "stderr",
     "output_type": "stream",
     "text": [
      "Using TensorFlow backend.\n"
     ]
    }
   ],
   "source": [
    "from __future__ import division, print_function\n",
    "from keras.callbacks import ModelCheckpoint\n",
    "from keras.models import Sequential, load_model\n",
    "from keras.layers.core import Dense, Dropout, Flatten\n",
    "from keras.layers.convolutional import Conv2D, MaxPooling2D\n",
    "from keras.utils import np_utils\n",
    "from sklearn.metrics import accuracy_score, confusion_matrix\n",
    "import numpy as np\n",
    "import matplotlib.pyplot as plt\n",
    "import os\n",
    "%matplotlib inline"
   ]
  },
  {
   "cell_type": "code",
   "execution_count": 2,
   "metadata": {
    "collapsed": true
   },
   "outputs": [],
   "source": [
    "DATA_DIR = \"../../data\"\n",
    "TRAIN_FILE = os.path.join(DATA_DIR, \"mnist_train.csv\")\n",
    "TEST_FILE = os.path.join(DATA_DIR, \"mnist_test.csv\")\n",
    "\n",
    "BEST_MODEL = os.path.join(DATA_DIR, \"keras-mnist-cnn-best.h5\")\n",
    "FINAL_MODEL = os.path.join(DATA_DIR, \"keras-mnist-cnn-final.h5\")\n",
    "\n",
    "BATCH_SIZE = 128\n",
    "NUM_CLASSES = 10\n",
    "NUM_EPOCHS = 5"
   ]
  },
  {
   "cell_type": "markdown",
   "metadata": {},
   "source": [
    "## Prepare Data\n",
    "\n",
    "Input shape for X will be (28, 28, 1) images in this case."
   ]
  },
  {
   "cell_type": "code",
   "execution_count": 3,
   "metadata": {
    "collapsed": false
   },
   "outputs": [
    {
     "name": "stdout",
     "output_type": "stream",
     "text": [
      "mnist_train.csv: 0 lines read\n",
      "mnist_train.csv: 10000 lines read\n",
      "mnist_train.csv: 20000 lines read\n",
      "mnist_train.csv: 30000 lines read\n",
      "mnist_train.csv: 40000 lines read\n",
      "mnist_train.csv: 50000 lines read\n",
      "mnist_train.csv: 60000 lines read\n",
      "mnist_test.csv: 0 lines read\n",
      "mnist_test.csv: 10000 lines read\n",
      "(60000, 28, 28, 1) (60000, 10) (10000, 28, 28, 1) (10000, 10)\n"
     ]
    }
   ],
   "source": [
    "def parse_file(filename):\n",
    "    xdata, ydata = [], []\n",
    "    fin = open(filename, \"rb\")\n",
    "    i = 0\n",
    "    for line in fin:\n",
    "        if i % 10000 == 0:\n",
    "            print(\"{:s}: {:d} lines read\".format(\n",
    "                    os.path.basename(filename), i))\n",
    "        cols = line.strip().split(\",\")\n",
    "        ydata.append(int(cols[0]))\n",
    "        x1d = np.array([float(x) / 255.0 for x in cols[1:]])\n",
    "        x3d = np.reshape(x1d, (28, 28, 1))\n",
    "        xdata.append(x3d)\n",
    "        i += 1\n",
    "    print(\"{:s}: {:d} lines read\".format(os.path.basename(filename), i))\n",
    "    fin.close()\n",
    "    Y = np_utils.to_categorical(np.array(ydata), num_classes=NUM_CLASSES)\n",
    "    X = np.array(xdata)\n",
    "    return X, Y\n",
    "\n",
    "Xtrain, Ytrain = parse_file(TRAIN_FILE)\n",
    "Xtest, Ytest = parse_file(TEST_FILE)\n",
    "print(Xtrain.shape, Ytrain.shape, Xtest.shape, Ytest.shape)"
   ]
  },
  {
   "cell_type": "markdown",
   "metadata": {},
   "source": [
    "## Define Network\n",
    "\n",
    "Model defined is identical to that in Keras example [mnist_cnn.py](https://github.com/fchollet/keras/blob/master/examples/mnist_cnn.py)."
   ]
  },
  {
   "cell_type": "code",
   "execution_count": 4,
   "metadata": {
    "collapsed": true
   },
   "outputs": [],
   "source": [
    "model = Sequential()\n",
    "model.add(Conv2D(32, (3, 3), activation=\"relu\", input_shape=(28, 28, 1)))\n",
    "model.add(Conv2D(64, (3, 3), activation=\"relu\"))\n",
    "model.add(MaxPooling2D(pool_size=(2, 2)))\n",
    "model.add(Dropout(0.25))\n",
    "model.add(Flatten())\n",
    "model.add(Dense(128, activation=\"relu\"))\n",
    "model.add(Dropout(0.5))\n",
    "model.add(Dense(NUM_CLASSES, activation=\"softmax\"))"
   ]
  },
  {
   "cell_type": "code",
   "execution_count": 5,
   "metadata": {
    "collapsed": true
   },
   "outputs": [],
   "source": [
    "model.compile(optimizer=\"adam\", loss=\"categorical_crossentropy\",\n",
    "              metrics=[\"accuracy\"])"
   ]
  },
  {
   "cell_type": "markdown",
   "metadata": {},
   "source": [
    "## Train Network"
   ]
  },
  {
   "cell_type": "code",
   "execution_count": 6,
   "metadata": {
    "collapsed": false
   },
   "outputs": [
    {
     "name": "stdout",
     "output_type": "stream",
     "text": [
      "Train on 54000 samples, validate on 6000 samples\n",
      "Epoch 1/5\n",
      "54000/54000 [==============================] - 94s - loss: 0.2633 - acc: 0.9177 - val_loss: 0.0539 - val_acc: 0.9835\n",
      "Epoch 2/5\n",
      "54000/54000 [==============================] - 97s - loss: 0.0883 - acc: 0.9739 - val_loss: 0.0442 - val_acc: 0.9880\n",
      "Epoch 3/5\n",
      "54000/54000 [==============================] - 95s - loss: 0.0673 - acc: 0.9792 - val_loss: 0.0387 - val_acc: 0.9893\n",
      "Epoch 4/5\n",
      "54000/54000 [==============================] - 95s - loss: 0.0552 - acc: 0.9828 - val_loss: 0.0360 - val_acc: 0.9900\n",
      "Epoch 5/5\n",
      "54000/54000 [==============================] - 95s - loss: 0.0471 - acc: 0.9848 - val_loss: 0.0363 - val_acc: 0.9903\n"
     ]
    }
   ],
   "source": [
    "checkpoint = ModelCheckpoint(filepath=BEST_MODEL, save_best_only=True)\n",
    "history = model.fit(Xtrain, Ytrain, batch_size=BATCH_SIZE, \n",
    "                    epochs=NUM_EPOCHS,\n",
    "                    validation_split=0.1,\n",
    "                    callbacks=[checkpoint])"
   ]
  },
  {
   "cell_type": "code",
   "execution_count": 7,
   "metadata": {
    "collapsed": true
   },
   "outputs": [],
   "source": [
    "model.save(FINAL_MODEL, overwrite=True)"
   ]
  },
  {
   "cell_type": "code",
   "execution_count": 8,
   "metadata": {
    "collapsed": false
   },
   "outputs": [
    {
     "data": {
      "image/png": "[encoded data removed]",
      "text/plain": [
       "<matplotlib.figure.Figure at 0x11b7fa1d0>"
      ]
     },
     "metadata": {},
     "output_type": "display_data"
    }
   ],
   "source": [
    "plt.subplot(211)\n",
    "plt.title(\"Accuracy\")\n",
    "plt.plot(history.history[\"acc\"], color=\"r\", label=\"Train\")\n",
    "plt.plot(history.history[\"val_acc\"], color=\"b\", label=\"Validation\")\n",
    "plt.legend(loc=\"best\")\n",
    "\n",
    "plt.subplot(212)\n",
    "plt.title(\"Loss\")\n",
    "plt.plot(history.history[\"loss\"], color=\"r\", label=\"Train\")\n",
    "plt.plot(history.history[\"val_loss\"], color=\"b\", label=\"Validation\")\n",
    "plt.legend(loc=\"best\")\n",
    "\n",
    "plt.tight_layout()\n",
    "plt.show()"
   ]
  },
  {
   "cell_type": "markdown",
   "metadata": {},
   "source": [
    "## Evaluate Network"
   ]
  },
  {
   "cell_type": "code",
   "execution_count": 9,
   "metadata": {
    "collapsed": false
   },
   "outputs": [
    {
     "name": "stdout",
     "output_type": "stream",
     "text": [
      "==== eval best model on test set ====\n",
      "Accuracy: 0.9910\n",
      "Confusion Matrix\n",
      "[[ 972    0    2    0    0    0    4    1    1    0]\n",
      " [   0 1131    1    1    0    0    2    0    0    0]\n",
      " [   1    2 1023    1    1    0    0    4    0    0]\n",
      " [   0    0    1 1006    0    1    0    1    1    0]\n",
      " [   0    0    0    0  980    0    0    0    0    2]\n",
      " [   1    0    0    7    0  881    3    0    0    0]\n",
      " [   4    2    0    0    1    2  948    0    1    0]\n",
      " [   0    4    5    2    0    0    0 1013    1    3]\n",
      " [   1    0    2    1    2    0    0    1  963    4]\n",
      " [   1    1    0    2    6    3    0    2    1  993]]\n",
      "==== eval final model on test set ====\n",
      "Accuracy: 0.9898\n",
      "Confusion Matrix\n",
      "[[ 978    0    0    0    0    0    0    1    1    0]\n",
      " [   0 1134    1    0    0    0    0    0    0    0]\n",
      " [   2    2 1022    0    1    0    1    4    0    0]\n",
      " [   0    0    2 1002    0    3    0    1    1    1]\n",
      " [   0    0    0    0  974    0    1    0    2    5]\n",
      " [   2    0    0    3    0  882    2    0    3    0]\n",
      " [   6    2    0    0    1    3  944    0    2    0]\n",
      " [   0    3    5    3    0    0    0 1013    2    2]\n",
      " [   4    0    1    1    1    1    0    0  964    2]\n",
      " [   6    2    0    0    6    2    0    4    4  985]]\n"
     ]
    }
   ],
   "source": [
    "def evaluate_model(model, model_name):\n",
    "    print(\"==== eval {:s} model on test set ====\".format(model_name))\n",
    "    Ytest_ = model.predict(Xtest)\n",
    "    ytest = np.argmax(Ytest, axis=1)\n",
    "    ytest_ = np.argmax(Ytest_, axis=1)\n",
    "    acc = accuracy_score(ytest, ytest_)\n",
    "    cm = confusion_matrix(ytest, ytest_)\n",
    "    print(\"Accuracy: {:.4f}\".format(acc))\n",
    "    print(\"Confusion Matrix\")\n",
    "    print(cm)\n",
    "\n",
    "evaluate_model(model, \"best\")\n",
    "\n",
    "model = load_model(BEST_MODEL)\n",
    "evaluate_model(model, \"final\")"
   ]
  },
  {
   "cell_type": "code",
   "execution_count": null,
   "metadata": {
    "collapsed": true
   },
   "outputs": [],
   "source": []
  }
 ],
 "metadata": {
  "kernelspec": {
   "display_name": "Python 2",
   "language": "python",
   "name": "python2"
  },
  "language_info": {
   "codemirror_mode": {
    "name": "ipython",
    "version": 2
   },
   "file_extension": ".py",
   "mimetype": "text/x-python",
   "name": "python",
   "nbconvert_exporter": "python",
   "pygments_lexer": "ipython2",
   "version": "2.7.13"
  }
 },
 "nbformat": 4,
 "nbformat_minor": 0
}
