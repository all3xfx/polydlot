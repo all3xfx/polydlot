{
 "cells": [
  {
   "cell_type": "markdown",
   "metadata": {},
   "source": [
    "# MNIST Digit Classification - Fully Connected Network"
   ]
  },
  {
   "cell_type": "code",
   "execution_count": 1,
   "metadata": {
    "collapsed": false
   },
   "outputs": [
    {
     "name": "stderr",
     "output_type": "stream",
     "text": [
      "Using TensorFlow backend.\n"
     ]
    }
   ],
   "source": [
    "from __future__ import division, print_function\n",
    "from keras.models import Sequential, load_model\n",
    "from keras.callbacks import ModelCheckpoint\n",
    "from keras.layers.core import Dense, Dropout\n",
    "from keras.utils import np_utils\n",
    "from sklearn.metrics import accuracy_score, confusion_matrix\n",
    "import numpy as np\n",
    "import matplotlib.pyplot as plt\n",
    "import os\n",
    "%matplotlib inline"
   ]
  },
  {
   "cell_type": "code",
   "execution_count": 2,
   "metadata": {
    "collapsed": true
   },
   "outputs": [],
   "source": [
    "DATA_DIR = \"../../data\"\n",
    "TRAIN_FILE = os.path.join(DATA_DIR, \"mnist_train.csv\")\n",
    "TEST_FILE = os.path.join(DATA_DIR, \"mnist_test.csv\")\n",
    "\n",
    "BEST_MODEL = os.path.join(DATA_DIR, \"keras-mnist-fcn-best.h5\")\n",
    "FINAL_MODEL = os.path.join(DATA_DIR, \"keras-mnist-fcn-final.h5\")\n",
    "\n",
    "BATCH_SIZE = 128\n",
    "NUM_CLASSES = 10\n",
    "NUM_EPOCHS = 10"
   ]
  },
  {
   "cell_type": "markdown",
   "metadata": {},
   "source": [
    "## Prepare Data"
   ]
  },
  {
   "cell_type": "code",
   "execution_count": 3,
   "metadata": {
    "collapsed": false
   },
   "outputs": [
    {
     "name": "stdout",
     "output_type": "stream",
     "text": [
      "mnist_train.csv: 0 lines read\n",
      "mnist_train.csv: 10000 lines read\n",
      "mnist_train.csv: 20000 lines read\n",
      "mnist_train.csv: 30000 lines read\n",
      "mnist_train.csv: 40000 lines read\n",
      "mnist_train.csv: 50000 lines read\n",
      "mnist_train.csv: 60000 lines read\n",
      "mnist_test.csv: 0 lines read\n",
      "mnist_test.csv: 10000 lines read\n",
      "(60000, 784) (60000, 10) (10000, 784) (10000, 10)\n"
     ]
    }
   ],
   "source": [
    "def parse_file(filename):\n",
    "    xdata, ydata = [], []\n",
    "    fin = open(filename, \"rb\")\n",
    "    i = 0\n",
    "    for line in fin:\n",
    "        if i % 10000 == 0:\n",
    "            print(\"{:s}: {:d} lines read\".format(\n",
    "                os.path.basename(filename), i))\n",
    "        cols = line.strip().split(\",\")\n",
    "        ydata.append(int(cols[0]))\n",
    "        xdata.append([float(x) / 255. for x in cols[1:]])\n",
    "        i += 1\n",
    "    fin.close()\n",
    "    print(\"{:s}: {:d} lines read\".format(os.path.basename(filename), i))\n",
    "    Y = np_utils.to_categorical(np.array(ydata), num_classes=NUM_CLASSES)\n",
    "    X = np.array(xdata)\n",
    "    return X, Y\n",
    "\n",
    "Xtrain, Ytrain = parse_file(TRAIN_FILE)\n",
    "Xtest, Ytest = parse_file(TEST_FILE)\n",
    "print(Xtrain.shape, Ytrain.shape, Xtest.shape, Ytest.shape)"
   ]
  },
  {
   "cell_type": "markdown",
   "metadata": {},
   "source": [
    "## Define Model\n",
    "\n",
    "Model is identical to that defined in Keras example [mnist_mlp.py](https://github.com/fchollet/keras/blob/master/examples/mnist_mlp.py)."
   ]
  },
  {
   "cell_type": "code",
   "execution_count": 4,
   "metadata": {
    "collapsed": false
   },
   "outputs": [],
   "source": [
    "model = Sequential()\n",
    "model.add(Dense(512, activation=\"relu\", input_shape=(784,)))\n",
    "model.add(Dropout(0.2))\n",
    "model.add(Dense(256, activation=\"relu\"))\n",
    "model.add(Dropout(0.2))\n",
    "model.add(Dense(10, activation=\"softmax\"))"
   ]
  },
  {
   "cell_type": "code",
   "execution_count": 5,
   "metadata": {
    "collapsed": true
   },
   "outputs": [],
   "source": [
    "model.compile(optimizer=\"adam\", loss=\"categorical_crossentropy\", \n",
    "              metrics=[\"accuracy\"])"
   ]
  },
  {
   "cell_type": "markdown",
   "metadata": {},
   "source": [
    "## Train Model"
   ]
  },
  {
   "cell_type": "code",
   "execution_count": 6,
   "metadata": {
    "collapsed": false
   },
   "outputs": [
    {
     "name": "stdout",
     "output_type": "stream",
     "text": [
      "Train on 54000 samples, validate on 6000 samples\n",
      "Epoch 1/10\n",
      "54000/54000 [==============================] - 4s - loss: 0.2831 - acc: 0.9156 - val_loss: 0.1020 - val_acc: 0.9702\n",
      "Epoch 2/10\n",
      "54000/54000 [==============================] - 4s - loss: 0.1121 - acc: 0.9657 - val_loss: 0.0738 - val_acc: 0.9770\n",
      "Epoch 3/10\n",
      "54000/54000 [==============================] - 4s - loss: 0.0790 - acc: 0.9756 - val_loss: 0.0711 - val_acc: 0.9788\n",
      "Epoch 4/10\n",
      "54000/54000 [==============================] - 4s - loss: 0.0601 - acc: 0.9817 - val_loss: 0.0592 - val_acc: 0.9820\n",
      "Epoch 5/10\n",
      "54000/54000 [==============================] - 4s - loss: 0.0506 - acc: 0.9843 - val_loss: 0.0612 - val_acc: 0.9813\n",
      "Epoch 6/10\n",
      "54000/54000 [==============================] - 4s - loss: 0.0401 - acc: 0.9869 - val_loss: 0.0636 - val_acc: 0.9815\n",
      "Epoch 7/10\n",
      "54000/54000 [==============================] - 4s - loss: 0.0346 - acc: 0.9881 - val_loss: 0.0655 - val_acc: 0.9813\n",
      "Epoch 8/10\n",
      "54000/54000 [==============================] - 4s - loss: 0.0306 - acc: 0.9902 - val_loss: 0.0603 - val_acc: 0.9843\n",
      "Epoch 9/10\n",
      "54000/54000 [==============================] - 4s - loss: 0.0278 - acc: 0.9905 - val_loss: 0.0639 - val_acc: 0.9837\n",
      "Epoch 10/10\n",
      "54000/54000 [==============================] - 4s - loss: 0.0263 - acc: 0.9911 - val_loss: 0.0721 - val_acc: 0.9800\n"
     ]
    }
   ],
   "source": [
    "checkpoint = ModelCheckpoint(filepath=BEST_MODEL, save_best_only=True)\n",
    "history = model.fit(Xtrain, Ytrain, batch_size=BATCH_SIZE, \n",
    "                    epochs=NUM_EPOCHS,\n",
    "                    validation_split=0.1,\n",
    "                    callbacks=[checkpoint])"
   ]
  },
  {
   "cell_type": "code",
   "execution_count": 7,
   "metadata": {
    "collapsed": true
   },
   "outputs": [],
   "source": [
    "model.save(FINAL_MODEL, overwrite=True)"
   ]
  },
  {
   "cell_type": "code",
   "execution_count": 8,
   "metadata": {
    "collapsed": false
   },
   "outputs": [
    {
     "data": {
      "image/png": "[encoded data removed]",
      "text/plain": [
       "<matplotlib.figure.Figure at 0x119e02f10>"
      ]
     },
     "metadata": {},
     "output_type": "display_data"
    }
   ],
   "source": [
    "plt.subplot(211)\n",
    "plt.title(\"Accuracy\")\n",
    "plt.plot(history.history[\"acc\"], color=\"r\", label=\"Train\")\n",
    "plt.plot(history.history[\"val_acc\"], color=\"b\", label=\"Validation\")\n",
    "plt.legend(loc=\"best\")\n",
    "\n",
    "plt.subplot(212)\n",
    "plt.title(\"Loss\")\n",
    "plt.plot(history.history[\"loss\"], color=\"r\", label=\"Train\")\n",
    "plt.plot(history.history[\"val_loss\"], color=\"b\", label=\"Validation\")\n",
    "plt.legend(loc=\"best\")\n",
    "\n",
    "plt.tight_layout()\n",
    "plt.show()"
   ]
  },
  {
   "cell_type": "markdown",
   "metadata": {},
   "source": [
    "## Evaluate Model"
   ]
  },
  {
   "cell_type": "code",
   "execution_count": 9,
   "metadata": {
    "collapsed": false
   },
   "outputs": [
    {
     "name": "stdout",
     "output_type": "stream",
     "text": [
      "==== eval best model on test set ====\n",
      "Accuracy: 0.9805\n",
      "Confusion Matrix\n",
      "[[ 974    1    0    0    1    0    1    1    2    0]\n",
      " [   0 1127    3    0    0    0    2    1    2    0]\n",
      " [   2    1 1022    3    0    0    0    4    0    0]\n",
      " [   0    0    2  998    0    0    0    6    2    2]\n",
      " [   2    0    2    0  939    0    5    6    1   27]\n",
      " [   2    0    0   13    1  862    5    2    5    2]\n",
      " [   5    2    2    1    1    1  946    0    0    0]\n",
      " [   1    3    9    2    0    0    0 1011    0    2]\n",
      " [   4    0    5    5    0    1    4    6  945    4]\n",
      " [   0    3    0    7    3    4    0    9    2  981]]\n",
      "==== eval final model on test set ====\n",
      "Accuracy: 0.9780\n",
      "Confusion Matrix\n",
      "[[ 974    1    1    0    1    0    2    1    0    0]\n",
      " [   0 1125    2    1    0    0    2    2    3    0]\n",
      " [   5    0 1005    5    2    0    1    8    5    1]\n",
      " [   1    0    4  978    0   15    0    7    3    2]\n",
      " [   1    0    2    0  966    0    3    2    0    8]\n",
      " [   2    0    0    2    1  881    1    1    2    2]\n",
      " [   6    3    0    1    2    7  939    0    0    0]\n",
      " [   1    2    6    2    0    0    0 1013    1    3]\n",
      " [  10    0    3   13    4    9    3    4  922    6]\n",
      " [   2    2    0    3   12    4    1    8    0  977]]\n"
     ]
    }
   ],
   "source": [
    "def evaluate_model(model, model_name):\n",
    "    print(\"==== eval {:s} model on test set ====\".format(model_name))\n",
    "    Ytest_ = model.predict(Xtest)\n",
    "    ytest = np.argmax(Ytest, axis=1)\n",
    "    ytest_ = np.argmax(Ytest_, axis=1)\n",
    "    acc = accuracy_score(ytest, ytest_)\n",
    "    cm = confusion_matrix(ytest, ytest_)\n",
    "    print(\"Accuracy: {:.4f}\".format(acc))\n",
    "    print(\"Confusion Matrix\")\n",
    "    print(cm)\n",
    "\n",
    "evaluate_model(model, \"best\")\n",
    "\n",
    "model = load_model(BEST_MODEL)\n",
    "evaluate_model(model, \"final\")"
   ]
  },
  {
   "cell_type": "code",
   "execution_count": null,
   "metadata": {
    "collapsed": true
   },
   "outputs": [],
   "source": []
  }
 ],
 "metadata": {
  "kernelspec": {
   "display_name": "Python 2",
   "language": "python",
   "name": "python2"
  },
  "language_info": {
   "codemirror_mode": {
    "name": "ipython",
    "version": 2
   },
   "file_extension": ".py",
   "mimetype": "text/x-python",
   "name": "python",
   "nbconvert_exporter": "python",
   "pygments_lexer": "ipython2",
   "version": "2.7.12"
  }
 },
 "nbformat": 4,
 "nbformat_minor": 0
}
