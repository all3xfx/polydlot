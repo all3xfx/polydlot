{
 "cells": [
  {
   "cell_type": "markdown",
   "metadata": {},
   "source": [
    "# MNIST Digit Classification - FCN"
   ]
  },
  {
   "cell_type": "code",
   "execution_count": 1,
   "metadata": {
    "collapsed": true
   },
   "outputs": [],
   "source": [
    "from __future__ import division, print_function\n",
    "from sklearn.metrics import accuracy_score, confusion_matrix\n",
    "from sklearn.preprocessing import OneHotEncoder\n",
    "import matplotlib.pyplot as plt\n",
    "import numpy as np\n",
    "import os\n",
    "import torch\n",
    "from torch.autograd import Variable\n",
    "%matplotlib inline"
   ]
  },
  {
   "cell_type": "code",
   "execution_count": 2,
   "metadata": {
    "collapsed": true
   },
   "outputs": [],
   "source": [
    "DATA_DIR = \"../../data\"\n",
    "TRAIN_FILE = os.path.join(DATA_DIR, \"mnist_train.csv\")\n",
    "TEST_FILE = os.path.join(DATA_DIR, \"mnist_test.csv\")\n",
    "\n",
    "MODEL_FILE = os.path.join(DATA_DIR, \"torch-mnist-fcn-{:d}.model\")\n",
    "\n",
    "LEARNING_RATE = 0.001\n",
    "INPUT_SIZE = 28*28\n",
    "BATCH_SIZE = 128\n",
    "NUM_CLASSES = 10\n",
    "NUM_EPOCHS = 10"
   ]
  },
  {
   "cell_type": "markdown",
   "metadata": {},
   "source": [
    "## Prepare Data"
   ]
  },
  {
   "cell_type": "code",
   "execution_count": 3,
   "metadata": {
    "collapsed": false
   },
   "outputs": [
    {
     "name": "stdout",
     "output_type": "stream",
     "text": [
      "mnist_train.csv: 0 lines read\n",
      "mnist_train.csv: 10000 lines read\n",
      "mnist_train.csv: 20000 lines read\n",
      "mnist_train.csv: 30000 lines read\n",
      "mnist_train.csv: 40000 lines read\n",
      "mnist_train.csv: 50000 lines read\n",
      "mnist_train.csv: 60000 lines read\n",
      "mnist_test.csv: 0 lines read\n",
      "mnist_test.csv: 10000 lines read\n",
      "(60000, 784) (60000,) (10000, 784) (10000,)\n"
     ]
    }
   ],
   "source": [
    "def parse_file(filename):\n",
    "    xdata, ydata = [], []\n",
    "    fin = open(filename, \"rb\")\n",
    "    i = 0\n",
    "    for line in fin:\n",
    "        if i % 10000 == 0:\n",
    "            print(\"{:s}: {:d} lines read\".format(\n",
    "                os.path.basename(filename), i))\n",
    "        cols = line.strip().split(\",\")\n",
    "        ydata.append(int(cols[0]))\n",
    "        xdata.append([float(x) / 255. for x in cols[1:]])\n",
    "        i += 1\n",
    "    fin.close()\n",
    "    print(\"{:s}: {:d} lines read\".format(os.path.basename(filename), i))\n",
    "    X = np.array(xdata)\n",
    "    y = np.array(ydata)\n",
    "    return X, y\n",
    "\n",
    "Xtrain, ytrain = parse_file(TRAIN_FILE)\n",
    "Xtest, ytest = parse_file(TEST_FILE)\n",
    "print(Xtrain.shape, ytrain.shape, Xtest.shape, ytest.shape)"
   ]
  },
  {
   "cell_type": "code",
   "execution_count": 4,
   "metadata": {
    "collapsed": false
   },
   "outputs": [
    {
     "name": "stdout",
     "output_type": "stream",
     "text": [
      "(128, 784) (128, 10)\n"
     ]
    }
   ],
   "source": [
    "def datagen(X, y, batch_size=BATCH_SIZE, num_classes=NUM_CLASSES):\n",
    "    ohe = OneHotEncoder(n_values=num_classes)\n",
    "    while True:\n",
    "        shuffled_indices = np.random.permutation(np.arange(len(y)))\n",
    "        num_batches = len(y) // batch_size\n",
    "        for bid in range(num_batches):\n",
    "            batch_indices = shuffled_indices[bid*batch_size:(bid+1)*batch_size]\n",
    "            Xbatch = np.zeros((batch_size, X.shape[1]))\n",
    "            Ybatch = np.zeros((batch_size, num_classes))\n",
    "            for i in range(batch_size):\n",
    "                Xbatch[i] = X[batch_indices[i]]\n",
    "                Ybatch[i] = ohe.fit_transform(y[batch_indices[i]]).todense()\n",
    "            yield Xbatch, Ybatch\n",
    "\n",
    "self_test_gen = datagen(Xtrain, ytrain)\n",
    "Xbatch, Ybatch = self_test_gen.next()\n",
    "print(Xbatch.shape, Ybatch.shape)"
   ]
  },
  {
   "cell_type": "markdown",
   "metadata": {},
   "source": [
    "## Define Network"
   ]
  },
  {
   "cell_type": "code",
   "execution_count": 5,
   "metadata": {
    "collapsed": false
   },
   "outputs": [],
   "source": [
    "model = torch.nn.Sequential(\n",
    "    # 784 => 512\n",
    "    torch.nn.Linear(INPUT_SIZE, 512),\n",
    "    torch.nn.ReLU(),\n",
    "    torch.nn.Dropout(p=0.2),\n",
    "    # 512 => 256\n",
    "    torch.nn.Linear(512, 256),\n",
    "    torch.nn.ReLU(),\n",
    "    torch.nn.Dropout(p=0.2),\n",
    "    # 256 => 10\n",
    "    torch.nn.Linear(256, NUM_CLASSES),\n",
    "    torch.nn.Softmax()\n",
    ")"
   ]
  },
  {
   "cell_type": "code",
   "execution_count": 6,
   "metadata": {
    "collapsed": false
   },
   "outputs": [],
   "source": [
    "# loss_fn = torch.nn.CrossEntropyLoss()\n",
    "loss_fn = torch.nn.MSELoss()\n",
    "optimizer = optimizer = torch.optim.Adam(model.parameters(), \n",
    "                                         lr=LEARNING_RATE)"
   ]
  },
  {
   "cell_type": "markdown",
   "metadata": {},
   "source": [
    "## Train Network"
   ]
  },
  {
   "cell_type": "code",
   "execution_count": 7,
   "metadata": {
    "collapsed": false
   },
   "outputs": [
    {
     "name": "stdout",
     "output_type": "stream",
     "text": [
      "Epoch 1/10: loss=0.014, accuracy=0.906\n",
      "Epoch 2/10: loss=0.006, accuracy=0.959\n",
      "Epoch 3/10: loss=0.005, accuracy=0.971\n",
      "Epoch 4/10: loss=0.004, accuracy=0.976\n",
      "Epoch 5/10: loss=0.003, accuracy=0.979\n",
      "Epoch 6/10: loss=0.003, accuracy=0.982\n",
      "Epoch 7/10: loss=0.002, accuracy=0.984\n",
      "Epoch 8/10: loss=0.002, accuracy=0.986\n",
      "Epoch 9/10: loss=0.002, accuracy=0.986\n",
      "Epoch 10/10: loss=0.002, accuracy=0.988\n"
     ]
    }
   ],
   "source": [
    "def compute_accuracy(pred_var, true_var):\n",
    "    ypred = np.argmax(pred_var.data.numpy(), axis=1)\n",
    "    ytrue = np.argmax(true_var.data.numpy(), axis=1)\n",
    "    return accuracy_score(ypred, ytrue)\n",
    "    \n",
    "history = []\n",
    "train_gen = datagen(Xtrain, ytrain, BATCH_SIZE)\n",
    "for epoch in range(NUM_EPOCHS):\n",
    "    num_batches = len(Xtrain) // BATCH_SIZE\n",
    "    total_loss, total_acc = 0., 0.\n",
    "    for _ in range(num_batches):\n",
    "        Xbatch, Ybatch = train_gen.next()\n",
    "        # convert to Torch datatype\n",
    "        Xbatch = Variable(torch.from_numpy(Xbatch).float())\n",
    "        Ybatch = Variable(torch.from_numpy(Ybatch).float())\n",
    "        # forward\n",
    "        Ybatch_ = model(Xbatch)\n",
    "        # compute loss\n",
    "        loss = loss_fn(Ybatch_, Ybatch)\n",
    "        # zero parameter gradients\n",
    "        optimizer.zero_grad()\n",
    "        loss.backward()\n",
    "        total_loss += loss.data[0]\n",
    "        total_acc += compute_accuracy(Ybatch_, Ybatch)\n",
    "        optimizer.step()\n",
    "    total_loss /= num_batches\n",
    "    total_acc /= num_batches\n",
    "    torch.save(model, MODEL_FILE.format(epoch+1))\n",
    "    print(\"Epoch {:d}/{:d}: loss={:.3f}, accuracy={:.3f}\".format(\n",
    "            (epoch+1), NUM_EPOCHS, total_loss, total_acc))\n",
    "    history.append((total_loss, total_acc))"
   ]
  },
  {
   "cell_type": "code",
   "execution_count": 8,
   "metadata": {
    "collapsed": false
   },
   "outputs": [
    {
     "data": {
      "image/png": "[encoded data removed]",
      "text/plain": [
       "<matplotlib.figure.Figure at 0x11063d450>"
      ]
     },
     "metadata": {},
     "output_type": "display_data"
    }
   ],
   "source": [
    "losses = [x[0] for x in history]\n",
    "accs = [x[1] for x in history]\n",
    "\n",
    "plt.subplot(211)\n",
    "plt.title(\"Accuracy\")\n",
    "plt.plot(accs)\n",
    "\n",
    "plt.subplot(212)\n",
    "plt.title(\"Loss\")\n",
    "plt.plot(losses)\n",
    "\n",
    "plt.tight_layout()\n",
    "plt.show()"
   ]
  },
  {
   "cell_type": "markdown",
   "metadata": {},
   "source": [
    "## Evaluate Network"
   ]
  },
  {
   "cell_type": "code",
   "execution_count": 9,
   "metadata": {
    "collapsed": false
   },
   "outputs": [
    {
     "name": "stdout",
     "output_type": "stream",
     "text": [
      "Accuracy: 0.9770\n",
      "Confusion Matrix\n",
      "[[ 969    0    5    1    1    3    7    3    2    3]\n",
      " [   1 1120    2    0    1    0    2    6    0    3]\n",
      " [   0    3 1007    3    3    0    0    9    3    0]\n",
      " [   1    1    1  989    0   10    1    4    8    8]\n",
      " [   1    0    3    0  953    1    3    0    3    5]\n",
      " [   0    1    0    6    1  864    1    0    1    6]\n",
      " [   2    4    1    0    5    6  941    0    8    1]\n",
      " [   1    0    5    3    3    0    0  997    4    5]\n",
      " [   1    5    6    2    2    5    1    3  940    4]\n",
      " [   0    1    0    6    9    2    0    4    4  974]]\n"
     ]
    }
   ],
   "source": [
    "BEST_MODEL_FILE = os.path.join(DATA_DIR, \"torch-mnist-fcn-10.model\")\n",
    "model = torch.load(BEST_MODEL_FILE)\n",
    "\n",
    "ys_, ys = [], []\n",
    "test_gen = datagen(Xtest, ytest, BATCH_SIZE)\n",
    "num_batches = len(Xtest) // BATCH_SIZE\n",
    "for _ in range(num_batches):\n",
    "    Xbatch, Ybatch = test_gen.next()\n",
    "    Xbatch = Variable(torch.from_numpy(Xbatch).float())\n",
    "    Ybatch = Variable(torch.from_numpy(Ybatch).float())\n",
    "    Ybatch_ = model(Xbatch)\n",
    "    ys_.extend(np.argmax(Ybatch_.data.numpy(), axis=1))\n",
    "    ys.extend(np.argmax(Ybatch.data.numpy(), axis=1))\n",
    "\n",
    "acc = accuracy_score(ys_, ys)\n",
    "cm = confusion_matrix(ys_, ys)\n",
    "print(\"Accuracy: {:.4f}\".format(acc))\n",
    "print(\"Confusion Matrix\")\n",
    "print(cm)"
   ]
  },
  {
   "cell_type": "code",
   "execution_count": null,
   "metadata": {
    "collapsed": true
   },
   "outputs": [],
   "source": []
  }
 ],
 "metadata": {
  "kernelspec": {
   "display_name": "Python 2",
   "language": "python",
   "name": "python2"
  },
  "language_info": {
   "codemirror_mode": {
    "name": "ipython",
    "version": 2
   },
   "file_extension": ".py",
   "mimetype": "text/x-python",
   "name": "python",
   "nbconvert_exporter": "python",
   "pygments_lexer": "ipython2",
   "version": "2.7.13"
  }
 },
 "nbformat": 4,
 "nbformat_minor": 0
}
