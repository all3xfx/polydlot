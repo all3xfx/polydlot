{
 "cells": [
  {
   "cell_type": "markdown",
   "metadata": {},
   "source": [
    "# MNIST Digit Classification - CNN"
   ]
  },
  {
   "cell_type": "code",
   "execution_count": 1,
   "metadata": {
    "collapsed": true
   },
   "outputs": [],
   "source": [
    "from __future__ import division, print_function\n",
    "from sklearn.metrics import accuracy_score, confusion_matrix\n",
    "from sklearn.preprocessing import OneHotEncoder\n",
    "import matplotlib.pyplot as plt\n",
    "import numpy as np\n",
    "import os\n",
    "import torch\n",
    "from torch.autograd import Variable\n",
    "%matplotlib inline"
   ]
  },
  {
   "cell_type": "code",
   "execution_count": 2,
   "metadata": {
    "collapsed": true
   },
   "outputs": [],
   "source": [
    "DATA_DIR = \"../../data\"\n",
    "TRAIN_FILE = os.path.join(DATA_DIR, \"mnist_train.csv\")\n",
    "TEST_FILE = os.path.join(DATA_DIR, \"mnist_test.csv\")\n",
    "\n",
    "MODEL_FILE = os.path.join(DATA_DIR, \"torch-mnist-cnn-{:d}.model\")\n",
    "\n",
    "LEARNING_RATE = 0.001\n",
    "INPUT_SIZE = 28\n",
    "BATCH_SIZE = 128\n",
    "NUM_CLASSES = 10\n",
    "NUM_EPOCHS = 5"
   ]
  },
  {
   "cell_type": "markdown",
   "metadata": {},
   "source": [
    "## Prepare Data\n",
    "\n",
    "Image data needs to be in Theano ordering format, ie, (batch_size, num_channels, width, height)."
   ]
  },
  {
   "cell_type": "code",
   "execution_count": 3,
   "metadata": {
    "collapsed": false
   },
   "outputs": [
    {
     "name": "stdout",
     "output_type": "stream",
     "text": [
      "mnist_train.csv: 0 lines read\n",
      "mnist_train.csv: 10000 lines read\n",
      "mnist_train.csv: 20000 lines read\n",
      "mnist_train.csv: 30000 lines read\n",
      "mnist_train.csv: 40000 lines read\n",
      "mnist_train.csv: 50000 lines read\n",
      "mnist_train.csv: 60000 lines read\n",
      "mnist_test.csv: 0 lines read\n",
      "mnist_test.csv: 10000 lines read\n",
      "(60000, 1, 28, 28) (60000,) (10000, 1, 28, 28) (10000,)\n"
     ]
    }
   ],
   "source": [
    "def parse_file(filename):\n",
    "    xdata, ydata = [], []\n",
    "    fin = open(filename, \"rb\")\n",
    "    i = 0\n",
    "    for line in fin:\n",
    "        if i % 10000 == 0:\n",
    "            print(\"{:s}: {:d} lines read\".format(\n",
    "                os.path.basename(filename), i))\n",
    "        cols = line.strip().split(\",\")\n",
    "        ydata.append(int(cols[0]))\n",
    "        xs1d = np.array([float(x) / 255. for x in cols[1:]])\n",
    "        xs3d = np.reshape(xs1d, (1, INPUT_SIZE, INPUT_SIZE))\n",
    "        xdata.append(xs3d)\n",
    "        i += 1\n",
    "    fin.close()\n",
    "    print(\"{:s}: {:d} lines read\".format(os.path.basename(filename), i))\n",
    "    X = np.array(xdata)\n",
    "    y = np.array(ydata)\n",
    "    return X, y\n",
    "\n",
    "Xtrain, ytrain = parse_file(TRAIN_FILE)\n",
    "Xtest, ytest = parse_file(TEST_FILE)\n",
    "print(Xtrain.shape, ytrain.shape, Xtest.shape, ytest.shape)"
   ]
  },
  {
   "cell_type": "code",
   "execution_count": 4,
   "metadata": {
    "collapsed": false
   },
   "outputs": [
    {
     "name": "stdout",
     "output_type": "stream",
     "text": [
      "(128, 1, 28, 28) (128, 10)\n"
     ]
    }
   ],
   "source": [
    "def datagen(X, y, batch_size=BATCH_SIZE, num_classes=NUM_CLASSES):\n",
    "    ohe = OneHotEncoder(n_values=num_classes)\n",
    "    while True:\n",
    "        shuffled_indices = np.random.permutation(np.arange(len(y)))\n",
    "        num_batches = len(y) // batch_size\n",
    "        for bid in range(num_batches):\n",
    "            batch_indices = shuffled_indices[bid*batch_size:(bid+1)*batch_size]\n",
    "            Xbatch = np.zeros((batch_size, 1, INPUT_SIZE, INPUT_SIZE))\n",
    "            Ybatch = np.zeros((batch_size, num_classes))\n",
    "            for i in range(batch_size):\n",
    "                Xbatch[i] = X[batch_indices[i]]\n",
    "                Ybatch[i] = ohe.fit_transform(y[batch_indices[i]]).todense()\n",
    "            yield Xbatch, Ybatch\n",
    "\n",
    "self_test_gen = datagen(Xtrain, ytrain)\n",
    "Xbatch, Ybatch = self_test_gen.next()\n",
    "print(Xbatch.shape, Ybatch.shape)"
   ]
  },
  {
   "cell_type": "markdown",
   "metadata": {},
   "source": [
    "## Define Network"
   ]
  },
  {
   "cell_type": "code",
   "execution_count": 5,
   "metadata": {
    "collapsed": false
   },
   "outputs": [],
   "source": [
    "class MNIST_CNN(torch.nn.Module):\n",
    "    \n",
    "    def __init__(self):\n",
    "        super(MNIST_CNN, self).__init__()\n",
    "        # CONV-1: 5x5 kernel, channels 1 => 32, maxpool(size=2)\n",
    "        self.layer_conv1 = torch.nn.Sequential(\n",
    "            torch.nn.Conv2d(1, 32, kernel_size=5, padding=2),\n",
    "            torch.nn.ReLU(),\n",
    "            torch.nn.MaxPool2d(2))\n",
    "        # CONV-2: 5x5 kernel, channels 32 => 64, maxpool(size=2)\n",
    "        self.layer_conv2 = torch.nn.Sequential(\n",
    "            torch.nn.Conv2d(32, 64, kernel_size=5, padding=2),\n",
    "            torch.nn.ReLU(),\n",
    "            torch.nn.MaxPool2d(2))\n",
    "        # FC1: input=(None, 7, 7, 64), output=(None, 1024)\n",
    "        self.layer_fc1 = torch.nn.Sequential(\n",
    "            torch.nn.Linear(7*7*64, 1024),\n",
    "            torch.nn.ReLU(),\n",
    "            torch.nn.Dropout(0.25))\n",
    "        # Output, class prediction (1024 => 10)\n",
    "        self.layer_pred = torch.nn.Sequential(\n",
    "            torch.nn.Linear(1024, 10),\n",
    "            torch.nn.Softmax())\n",
    "\n",
    "    def forward(self, x):\n",
    "        conv1 = self.layer_conv1(x)\n",
    "        conv2 = self.layer_conv2(conv1)\n",
    "        flatten = conv2.view(conv2.size(0), -1)\n",
    "        fc1 = self.layer_fc1(flatten)\n",
    "        pred = self.layer_pred(fc1)\n",
    "        return pred\n",
    "\n",
    "model = MNIST_CNN()"
   ]
  },
  {
   "cell_type": "code",
   "execution_count": 6,
   "metadata": {
    "collapsed": true
   },
   "outputs": [],
   "source": [
    "# loss_fn = torch.nn.CrossEntropyLoss()\n",
    "loss_fn = torch.nn.MSELoss()\n",
    "optimizer = torch.optim.Adam(model.parameters(), lr=LEARNING_RATE)"
   ]
  },
  {
   "cell_type": "markdown",
   "metadata": {},
   "source": [
    "## Train Network"
   ]
  },
  {
   "cell_type": "code",
   "execution_count": 7,
   "metadata": {
    "collapsed": false
   },
   "outputs": [
    {
     "name": "stderr",
     "output_type": "stream",
     "text": [
      "/Users/palsujit/anaconda/lib/python2.7/site-packages/torch/serialization.py:147: UserWarning: Couldn't retrieve source code for container of type MNIST_CNN. It won't be checked for correctness upon loading.\n",
      "  \"type \" + obj.__name__ + \". It won't be checked \"\n"
     ]
    },
    {
     "name": "stdout",
     "output_type": "stream",
     "text": [
      "Epoch 1/5: loss=0.008, accuracy=0.946\n",
      "Epoch 2/5: loss=0.002, accuracy=0.984\n",
      "Epoch 3/5: loss=0.002, accuracy=0.989\n",
      "Epoch 4/5: loss=0.001, accuracy=0.992\n",
      "Epoch 5/5: loss=0.001, accuracy=0.993\n"
     ]
    }
   ],
   "source": [
    "def compute_accuracy(pred_var, true_var):\n",
    "    ypred = np.argmax(pred_var.data.numpy(), axis=1)\n",
    "    ytrue = np.argmax(true_var.data.numpy(), axis=1)\n",
    "    return accuracy_score(ypred, ytrue)\n",
    "\n",
    "history = []\n",
    "train_gen = datagen(Xtrain, ytrain, BATCH_SIZE)\n",
    "for epoch in range(NUM_EPOCHS):\n",
    "    num_batches = len(Xtrain) // BATCH_SIZE\n",
    "    total_loss, total_acc = 0., 0.\n",
    "    for _ in range(num_batches):\n",
    "        Xbatch, Ybatch = train_gen.next()\n",
    "        # convert to Torch datatype\n",
    "        Xbatch = Variable(torch.from_numpy(Xbatch).float())\n",
    "        Ybatch = Variable(torch.from_numpy(Ybatch).float())\n",
    "        # forward + backward + optimize\n",
    "        optimizer.zero_grad()\n",
    "        Ybatch_ = model(Xbatch)\n",
    "        loss = loss_fn(Ybatch_, Ybatch)\n",
    "        loss.backward()\n",
    "        total_loss += loss.data[0]\n",
    "        total_acc += compute_accuracy(Ybatch_, Ybatch)\n",
    "        optimizer.step()\n",
    "        \n",
    "    total_loss /= num_batches\n",
    "    total_acc /= num_batches\n",
    "    torch.save(model, MODEL_FILE.format(epoch+1))\n",
    "\n",
    "    print(\"Epoch {:d}/{:d}: loss={:.3f}, accuracy={:.3f}\".format(\n",
    "            (epoch+1), NUM_EPOCHS, total_loss, total_acc))\n",
    "    history.append((total_loss, total_acc))"
   ]
  },
  {
   "cell_type": "code",
   "execution_count": 8,
   "metadata": {
    "collapsed": false
   },
   "outputs": [
    {
     "data": {
      "image/png": "[encoded data removed]",
      "text/plain": [
       "<matplotlib.figure.Figure at 0x10ff3e150>"
      ]
     },
     "metadata": {},
     "output_type": "display_data"
    }
   ],
   "source": [
    "losses = [x[0] for x in history]\n",
    "accs = [x[1] for x in history]\n",
    "\n",
    "plt.subplot(211)\n",
    "plt.title(\"Accuracy\")\n",
    "plt.plot(accs)\n",
    "\n",
    "plt.subplot(212)\n",
    "plt.title(\"Loss\")\n",
    "plt.plot(losses)\n",
    "\n",
    "plt.tight_layout()\n",
    "plt.show()"
   ]
  },
  {
   "cell_type": "markdown",
   "metadata": {},
   "source": [
    "## Evaluate Network"
   ]
  },
  {
   "cell_type": "code",
   "execution_count": 9,
   "metadata": {
    "collapsed": false
   },
   "outputs": [
    {
     "name": "stdout",
     "output_type": "stream",
     "text": [
      "Accuracy: 0.9858\n",
      "Confusion Matrix\n",
      "[[ 974    0    0    1    0    1    1    0    3    0]\n",
      " [   0 1127    0    0    0    0    2    1    0    2]\n",
      " [   4    0 1025    0    0    0    0    4   29    5]\n",
      " [   0    1    0 1000    0    3    0    0    7    1]\n",
      " [   0    0    0    0  979    0    1    0    2   14]\n",
      " [   0    1    0    6    0  883    5    0   13    7]\n",
      " [   0    1    0    0    1    1  947    0    2    0]\n",
      " [   0    3    4    1    0    1    0 1021    2    4]\n",
      " [   0    0    0    1    0    0    0    0  911    0]\n",
      " [   0    0    0    0    2    0    0    1    4  975]]\n"
     ]
    }
   ],
   "source": [
    "BEST_MODEL_FILE = os.path.join(DATA_DIR, \"torch-mnist-cnn-5.model\")\n",
    "model = torch.load(BEST_MODEL_FILE)\n",
    "\n",
    "ys_, ys = [], []\n",
    "test_gen = datagen(Xtest, ytest, BATCH_SIZE)\n",
    "num_batches = len(Xtest) // BATCH_SIZE\n",
    "for _ in range(num_batches):\n",
    "    Xbatch, Ybatch = test_gen.next()\n",
    "    Xbatch = Variable(torch.from_numpy(Xbatch).float())\n",
    "    Ybatch = Variable(torch.from_numpy(Ybatch).float())\n",
    "    Ybatch_ = model(Xbatch)\n",
    "    ys_.extend(np.argmax(Ybatch_.data.numpy(), axis=1))\n",
    "    ys.extend(np.argmax(Ybatch.data.numpy(), axis=1))\n",
    "\n",
    "acc = accuracy_score(ys_, ys)\n",
    "cm = confusion_matrix(ys_, ys)\n",
    "print(\"Accuracy: {:.4f}\".format(acc))\n",
    "print(\"Confusion Matrix\")\n",
    "print(cm)"
   ]
  }
 ],
 "metadata": {
  "kernelspec": {
   "display_name": "Python 2",
   "language": "python",
   "name": "python2"
  },
  "language_info": {
   "codemirror_mode": {
    "name": "ipython",
    "version": 2
   },
   "file_extension": ".py",
   "mimetype": "text/x-python",
   "name": "python",
   "nbconvert_exporter": "python",
   "pygments_lexer": "ipython2",
   "version": "2.7.13"
  }
 },
 "nbformat": 4,
 "nbformat_minor": 0
}
