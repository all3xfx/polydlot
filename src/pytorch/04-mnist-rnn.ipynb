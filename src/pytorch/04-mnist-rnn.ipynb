{
 "cells": [
  {
   "cell_type": "markdown",
   "metadata": {},
   "source": [
    "# MNIST Handwritten Digit Classification - Recurrent Neural Networks"
   ]
  },
  {
   "cell_type": "code",
   "execution_count": 1,
   "metadata": {
    "collapsed": true
   },
   "outputs": [],
   "source": [
    "from __future__ import division, print_function\n",
    "from sklearn.metrics import accuracy_score, confusion_matrix\n",
    "from sklearn.preprocessing import OneHotEncoder\n",
    "import matplotlib.pyplot as plt\n",
    "import numpy as np\n",
    "import os\n",
    "import torch\n",
    "from torch.autograd import Variable\n",
    "%matplotlib inline"
   ]
  },
  {
   "cell_type": "code",
   "execution_count": 2,
   "metadata": {
    "collapsed": true
   },
   "outputs": [],
   "source": [
    "DATA_DIR = \"../../data\"\n",
    "TRAIN_FILE = os.path.join(DATA_DIR, \"mnist_train.csv\")\n",
    "TEST_FILE = os.path.join(DATA_DIR, \"mnist_test.csv\")\n",
    "\n",
    "MODEL_FILE = os.path.join(DATA_DIR, \"torch-mnist-rnn-{:d}.model\")\n",
    "\n",
    "LEARNING_RATE = 1e-3\n",
    "ROWS, COLS = 28, 28\n",
    "BATCH_SIZE = 128\n",
    "NUM_CLASSES = 10\n",
    "NUM_EPOCHS = 5"
   ]
  },
  {
   "cell_type": "markdown",
   "metadata": {},
   "source": [
    "## Prepare Data\n",
    "\n",
    "Torch LSTMs expect their data as 3D tensors of shape (SEQUENCE_LENGTH, BATCH_SIZE, EMBEDDING_SIZE), according to [this page](http://pytorch.org/tutorials/beginner/nlp/sequence_models_tutorial.html#lstm-s-in-pytorch). We do the data extraction below so our data is parsed out the same way."
   ]
  },
  {
   "cell_type": "code",
   "execution_count": 3,
   "metadata": {
    "collapsed": false
   },
   "outputs": [
    {
     "name": "stdout",
     "output_type": "stream",
     "text": [
      "mnist_train.csv: 0 lines read\n",
      "mnist_train.csv: 10000 lines read\n",
      "mnist_train.csv: 20000 lines read\n",
      "mnist_train.csv: 30000 lines read\n",
      "mnist_train.csv: 40000 lines read\n",
      "mnist_train.csv: 50000 lines read\n",
      "mnist_train.csv: 60000 lines read\n",
      "mnist_test.csv: 0 lines read\n",
      "mnist_test.csv: 10000 lines read\n",
      "(28, 60000, 28) (60000,) (28, 10000, 28) (10000,)\n"
     ]
    }
   ],
   "source": [
    "def parse_file(filename):\n",
    "    xdata, ydata = [], []\n",
    "    fin = open(filename, \"rb\")\n",
    "    i = 0\n",
    "    for line in fin:\n",
    "        if i % 10000 == 0:\n",
    "            print(\"{:s}: {:d} lines read\".format(\n",
    "                os.path.basename(filename), i))\n",
    "        cols = line.strip().split(\",\")\n",
    "        ydata.append(int(cols[0]))\n",
    "        xdata.append(np.reshape(\n",
    "            np.array([float(x) / 255. for x in cols[1:]]), \n",
    "            (COLS, ROWS)))\n",
    "        i += 1\n",
    "    fin.close()\n",
    "    print(\"{:s}: {:d} lines read\".format(os.path.basename(filename), i))\n",
    "    X = np.transpose(np.array(xdata), (1, 0, 2))\n",
    "    y = np.array(ydata)\n",
    "    return X, y\n",
    "\n",
    "Xtrain, ytrain = parse_file(TRAIN_FILE)\n",
    "Xtest, ytest = parse_file(TEST_FILE)\n",
    "print(Xtrain.shape, ytrain.shape, Xtest.shape, ytest.shape)"
   ]
  },
  {
   "cell_type": "code",
   "execution_count": 4,
   "metadata": {
    "collapsed": false
   },
   "outputs": [
    {
     "name": "stdout",
     "output_type": "stream",
     "text": [
      "(28, 128, 28) (128, 10)\n"
     ]
    }
   ],
   "source": [
    "def datagen(X, y, batch_size=BATCH_SIZE, num_classes=NUM_CLASSES):\n",
    "    ohe = OneHotEncoder(n_values=num_classes)\n",
    "    while True:\n",
    "        shuffled_indices = np.random.permutation(np.arange(len(y)))\n",
    "        num_batches = len(y) // batch_size\n",
    "        for bid in range(num_batches):\n",
    "            batch_indices = shuffled_indices[bid*batch_size:(bid+1)*batch_size]\n",
    "            Xbatch = np.zeros((X.shape[0], batch_size, X.shape[2]))\n",
    "            Ybatch = np.zeros((batch_size, num_classes))\n",
    "            for i in range(batch_size):\n",
    "                Xbatch[:, i, :] = X[:, batch_indices[i], :]\n",
    "                Ybatch[i] = ohe.fit_transform(y[batch_indices[i]]).todense()\n",
    "            yield Xbatch, Ybatch\n",
    "\n",
    "self_test_gen = datagen(Xtrain, ytrain)\n",
    "Xbatch, Ybatch = self_test_gen.next()\n",
    "print(Xbatch.shape, Ybatch.shape)"
   ]
  },
  {
   "cell_type": "markdown",
   "metadata": {},
   "source": [
    "## Define Network"
   ]
  },
  {
   "cell_type": "code",
   "execution_count": 5,
   "metadata": {
    "collapsed": false
   },
   "outputs": [],
   "source": [
    "class MNISTClassifier(torch.nn.Module):\n",
    "    \n",
    "    def __init__(self, input_dim, hidden_dim, output_dim, \n",
    "                 seqlen, batch_size):\n",
    "        super(MNISTClassifier, self).__init__()\n",
    "        self.input_dim = input_dim\n",
    "        self.hidden_dim = hidden_dim\n",
    "        self.seqlen = seqlen\n",
    "        self.batch_size = batch_size\n",
    "        self.output_dim = output_dim\n",
    "        # define layers\n",
    "        self.lstm = torch.nn.LSTM(input_dim, hidden_dim)\n",
    "        self.fcn = torch.nn.Linear(hidden_dim, output_dim)\n",
    "        # define weights for LSTM\n",
    "        self.hidden = self.init_hidden()\n",
    "\n",
    "\n",
    "    def init_hidden(self):\n",
    "        return (\n",
    "            Variable(torch.randn(self.input_dim, self.batch_size, \n",
    "                                 self.hidden_dim)),\n",
    "            Variable(torch.randn(self.input_dim, self.batch_size, \n",
    "                                 self.hidden_dim)))\n",
    "\n",
    "    \n",
    "    def forward(self, x):\n",
    "        # LSTM\n",
    "        lstm_out, self.hidden = self.lstm(x.view(self.input_dim, \n",
    "                                                 self.batch_size, \n",
    "                                                 self.seqlen), \n",
    "                                          self.hidden)\n",
    "        # get the context vector (last element of lstm_out)\n",
    "        lstm_out = lstm_out[-1]\n",
    "        # dropout\n",
    "        lstm_dropout = torch.nn.Dropout(p=0.2)(lstm_out)\n",
    "        # FCN\n",
    "        fcn_out = self.fcn(lstm_dropout.view(self.batch_size, \n",
    "                                             self.hidden_dim))\n",
    "        return torch.nn.functional.log_softmax(fcn_out)"
   ]
  },
  {
   "cell_type": "code",
   "execution_count": 6,
   "metadata": {
    "collapsed": false
   },
   "outputs": [],
   "source": [
    "model = MNISTClassifier(ROWS, 512, NUM_CLASSES, COLS, BATCH_SIZE)\n",
    "# loss_fn = torch.nn.NLLLoss()\n",
    "# loss_fn = torch.nn.CrossEntropyLoss()\n",
    "loss_fn = torch.nn.MSELoss()\n",
    "optimizer = torch.optim.Adam(model.parameters(), lr=LEARNING_RATE)"
   ]
  },
  {
   "cell_type": "markdown",
   "metadata": {},
   "source": [
    "## Train Network"
   ]
  },
  {
   "cell_type": "code",
   "execution_count": 7,
   "metadata": {
    "collapsed": false
   },
   "outputs": [
    {
     "name": "stderr",
     "output_type": "stream",
     "text": [
      "/Users/palsujit/anaconda2/lib/python2.7/site-packages/torch/serialization.py:147: UserWarning: Couldn't retrieve source code for container of type MNISTClassifier. It won't be checked for correctness upon loading.\n",
      "  \"type \" + obj.__name__ + \". It won't be checked \"\n"
     ]
    },
    {
     "name": "stdout",
     "output_type": "stream",
     "text": [
      "Epoch 1/5: loss=5.845, accuracy=0.844\n",
      "Epoch 2/5: loss=5.839, accuracy=0.969\n",
      "Epoch 3/5: loss=5.839, accuracy=0.979\n",
      "Epoch 4/5: loss=5.838, accuracy=0.984\n",
      "Epoch 5/5: loss=5.838, accuracy=0.986\n"
     ]
    }
   ],
   "source": [
    "def compute_accuracy(pred_var, true_var):\n",
    "    ypred = np.argmax(pred_var.data.numpy(), axis=1)\n",
    "    ytrue = np.argmax(true_var.data.numpy(), axis=1)\n",
    "    return accuracy_score(ypred, ytrue)\n",
    "    \n",
    "history = []\n",
    "train_gen = datagen(Xtrain, ytrain, BATCH_SIZE)\n",
    "for epoch in range(NUM_EPOCHS):\n",
    "    num_batches = Xtrain.shape[1] // BATCH_SIZE\n",
    "    total_loss, total_acc = 0., 0.\n",
    "    for _ in range(num_batches):\n",
    "        # PyTorch accumulates gradients, so they need to be cleared\n",
    "        # Hidden state needs to be cleared as well before each sequence\n",
    "        model.zero_grad()\n",
    "        model.hidden = model.init_hidden()\n",
    "        # Get next batch, convert to Torch datatype\n",
    "        Xbatch, Ybatch = train_gen.next()\n",
    "        Xbatch = Variable(torch.from_numpy(Xbatch).float())\n",
    "        Ybatch = Variable(torch.from_numpy(Ybatch).float())\n",
    "        # forward\n",
    "        Ybatch_ = model(Xbatch)\n",
    "        # compute loss\n",
    "        loss = loss_fn(Ybatch_, Ybatch)\n",
    "        # zero parameter gradients\n",
    "        loss.backward()\n",
    "        total_loss += loss.data[0]\n",
    "        total_acc += compute_accuracy(Ybatch_, Ybatch)\n",
    "        optimizer.step()\n",
    "    total_loss /= num_batches\n",
    "    total_acc /= num_batches\n",
    "    torch.save(model, MODEL_FILE.format(epoch+1))\n",
    "    print(\"Epoch {:d}/{:d}: loss={:.3f}, accuracy={:.3f}\".format(\n",
    "            (epoch+1), NUM_EPOCHS, total_loss, total_acc))\n",
    "    history.append((total_loss, total_acc))"
   ]
  },
  {
   "cell_type": "code",
   "execution_count": 8,
   "metadata": {
    "collapsed": false
   },
   "outputs": [
    {
     "data": {
      "image/png": "[encoded data removed]",
      "text/plain": [
       "<matplotlib.figure.Figure at 0x10e3263d0>"
      ]
     },
     "metadata": {},
     "output_type": "display_data"
    }
   ],
   "source": [
    "losses = [x[0] for x in history]\n",
    "accs = [x[1] for x in history]\n",
    "\n",
    "plt.subplot(211)\n",
    "plt.title(\"Accuracy\")\n",
    "plt.plot(accs)\n",
    "\n",
    "plt.subplot(212)\n",
    "plt.title(\"Loss\")\n",
    "plt.plot(losses)\n",
    "\n",
    "plt.tight_layout()\n",
    "plt.show()"
   ]
  },
  {
   "cell_type": "markdown",
   "metadata": {},
   "source": [
    "## Evaluate Network"
   ]
  },
  {
   "cell_type": "code",
   "execution_count": 18,
   "metadata": {
    "collapsed": false
   },
   "outputs": [
    {
     "name": "stdout",
     "output_type": "stream",
     "text": [
      "Accuracy: 0.9836\n",
      "Confusion Matrix\n",
      "[[ 974    1    2    0    0    0    3    0    0    1]\n",
      " [   0 1130    1    1    0    0    2    5    0    1]\n",
      " [   0    1 1020    5    0    0    2    9    3    0]\n",
      " [   0    0    0  996    0   11    0    0    2    0]\n",
      " [   0    0    0    0  956    0    0    0    1    2]\n",
      " [   1    0    0    1    0  872   18    0    2    0]\n",
      " [   3    1    0    0    4    1  929    0    0    0]\n",
      " [   1    0    5    2    0    1    0  988    0    3]\n",
      " [   1    1    2    1    5    4    3    2  958    2]\n",
      " [   0    0    1    4   14    2    0   19    7  997]]\n"
     ]
    }
   ],
   "source": [
    "BEST_MODEL_FILE = os.path.join(DATA_DIR, \"torch-mnist-rnn-5.model\")\n",
    "model = torch.load(BEST_MODEL_FILE)\n",
    "\n",
    "ys_, ys = [], []\n",
    "test_gen = datagen(Xtest, ytest, BATCH_SIZE)\n",
    "num_batches = Xtest.shape[1] // BATCH_SIZE\n",
    "for _ in range(num_batches):\n",
    "    Xbatch, Ybatch = test_gen.next()\n",
    "    Xbatch = Variable(torch.from_numpy(Xbatch).float())\n",
    "    Ybatch = Variable(torch.from_numpy(Ybatch).float())\n",
    "    Ybatch_ = model(Xbatch)\n",
    "    ys_.extend(np.argmax(Ybatch_.data.numpy(), axis=1))\n",
    "    ys.extend(np.argmax(Ybatch.data.numpy(), axis=1))\n",
    "\n",
    "acc = accuracy_score(ys_, ys)\n",
    "cm = confusion_matrix(ys_, ys)\n",
    "print(\"Accuracy: {:.4f}\".format(acc))\n",
    "print(\"Confusion Matrix\")\n",
    "print(cm)"
   ]
  },
  {
   "cell_type": "code",
   "execution_count": null,
   "metadata": {
    "collapsed": true
   },
   "outputs": [],
   "source": []
  }
 ],
 "metadata": {
  "kernelspec": {
   "display_name": "Python 2",
   "language": "python",
   "name": "python2"
  },
  "language_info": {
   "codemirror_mode": {
    "name": "ipython",
    "version": 2
   },
   "file_extension": ".py",
   "mimetype": "text/x-python",
   "name": "python",
   "nbconvert_exporter": "python",
   "pygments_lexer": "ipython2",
   "version": "2.7.13"
  }
 },
 "nbformat": 4,
 "nbformat_minor": 2
}
