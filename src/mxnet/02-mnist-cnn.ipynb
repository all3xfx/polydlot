{
 "cells": [
  {
   "cell_type": "markdown",
   "metadata": {},
   "source": [
    "# MNIST Digit Classification - CNN"
   ]
  },
  {
   "cell_type": "code",
   "execution_count": 1,
   "metadata": {
    "collapsed": true
   },
   "outputs": [],
   "source": [
    "from __future__ import division, print_function\n",
    "from sklearn.metrics import accuracy_score, confusion_matrix\n",
    "from sklearn.preprocessing import OneHotEncoder\n",
    "import matplotlib.pyplot as plt\n",
    "import mxnet as mx\n",
    "import numpy as np\n",
    "import os\n",
    "%matplotlib inline"
   ]
  },
  {
   "cell_type": "code",
   "execution_count": 2,
   "metadata": {
    "collapsed": true
   },
   "outputs": [],
   "source": [
    "DATA_DIR = \"../../data\"\n",
    "TRAIN_FILE = os.path.join(DATA_DIR, \"mnist_train.csv\")\n",
    "TEST_FILE = os.path.join(DATA_DIR, \"mnist_test.csv\")\n",
    "\n",
    "MODEL_FILE = os.path.join(DATA_DIR, \"mxnet-mnist-cn\")\n",
    "\n",
    "LEARNING_RATE = 0.001\n",
    "INPUT_SIZE = 28\n",
    "BATCH_SIZE = 128\n",
    "NUM_CLASSES = 10\n",
    "NUM_EPOCHS = 5"
   ]
  },
  {
   "cell_type": "markdown",
   "metadata": {},
   "source": [
    "## Prepare Data\n",
    "\n",
    "Images have Theano-style dim ordering, i.e, (num_batches, num_channels, height, width)."
   ]
  },
  {
   "cell_type": "code",
   "execution_count": 8,
   "metadata": {
    "collapsed": false
   },
   "outputs": [
    {
     "name": "stdout",
     "output_type": "stream",
     "text": [
      "mnist_train.csv: 0 lines read\n",
      "mnist_train.csv: 10000 lines read\n",
      "mnist_train.csv: 20000 lines read\n",
      "mnist_train.csv: 30000 lines read\n",
      "mnist_train.csv: 40000 lines read\n",
      "mnist_train.csv: 50000 lines read\n",
      "mnist_train.csv: 60000 lines read\n",
      "mnist_test.csv: 0 lines read\n",
      "mnist_test.csv: 10000 lines read\n",
      "(60000, 1, 28, 28) (60000, 10) (10000, 1, 28, 28) (10000, 10)\n"
     ]
    }
   ],
   "source": [
    "def parse_file(filename):\n",
    "    xdata, ydata = [], []\n",
    "    fin = open(filename, \"rb\")\n",
    "    i = 0\n",
    "    for line in fin:\n",
    "        if i % 10000 == 0:\n",
    "            print(\"{:s}: {:d} lines read\".format(\n",
    "                os.path.basename(filename), i))\n",
    "        cols = line.strip().split(\",\")\n",
    "        ydata.append(int(cols[0]))\n",
    "        xs1d = np.array([float(x) for x in cols[1:]])\n",
    "        xs4d = np.reshape(xs1d, (1, INPUT_SIZE, INPUT_SIZE))\n",
    "        xdata.append(xs4d)\n",
    "        i += 1\n",
    "    fin.close()\n",
    "    print(\"{:s}: {:d} lines read\".format(os.path.basename(filename), i))\n",
    "    X = np.array(xdata)\n",
    "    ohe = OneHotEncoder(n_values=NUM_CLASSES)\n",
    "    Y = ohe.fit_transform([ydata]).todense().reshape(len(ydata), -1)\n",
    "    return X, Y\n",
    "\n",
    "Xtrain, Ytrain = parse_file(TRAIN_FILE)\n",
    "Xtest, Ytest = parse_file(TEST_FILE)\n",
    "print(Xtrain.shape, Ytrain.shape, Xtest.shape, Ytest.shape)"
   ]
  },
  {
   "cell_type": "code",
   "execution_count": 9,
   "metadata": {
    "collapsed": true
   },
   "outputs": [],
   "source": [
    "train_gen = mx.io.NDArrayIter(Xtrain, label=Ytrain, batch_size=BATCH_SIZE, shuffle=True)\n",
    "val_gen = mx.io.NDArrayIter(Xtest, label=Ytest, batch_size=BATCH_SIZE)"
   ]
  },
  {
   "cell_type": "markdown",
   "metadata": {},
   "source": [
    "## Define Network"
   ]
  },
  {
   "cell_type": "code",
   "execution_count": 10,
   "metadata": {
    "collapsed": true
   },
   "outputs": [],
   "source": [
    "data = mx.symbol.Variable(\"data\")\n",
    "# CONV1: 5x5 kernel, channels 1 => 32, maxpool(2)\n",
    "conv1 = mx.sym.Convolution(data=data, kernel=(5,5), num_filter=32)\n",
    "relu1 = mx.sym.Activation(data=conv1, act_type=\"relu\")\n",
    "pool1 = mx.sym.Pooling(data=relu1, pool_type=\"max\", kernel=(2,2), stride=(2,2))\n",
    "# CONV2: 5x5 kernel, channels 32 => 64, maxpool(2)\n",
    "conv2 = mx.sym.Convolution(data=pool1, kernel=(5,5), num_filter=64)\n",
    "relu2 = mx.sym.Activation(data=conv2, act_type=\"relu\")\n",
    "pool2 = mx.sym.Pooling(data=relu2, pool_type=\"max\", kernel=(2,2), stride=(2,2))\n",
    "# FC1: 7*7*64 => 512\n",
    "flatten = mx.sym.Flatten(data=pool2)\n",
    "fc1 = mx.symbol.FullyConnected(data=flatten, num_hidden=512)\n",
    "relu3 = mx.sym.Activation(data=fc1, act_type=\"relu\")\n",
    "drop3 = mx.sym.Dropout(data=relu3, p=0.25)\n",
    "# FC2: 512 => 10\n",
    "fc2 = mx.sym.FullyConnected(data=drop3, num_hidden=NUM_CLASSES)\n",
    "net = mx.sym.SoftmaxOutput(data=fc2, name='softmax')"
   ]
  },
  {
   "cell_type": "markdown",
   "metadata": {},
   "source": [
    "## Train Network"
   ]
  },
  {
   "cell_type": "code",
   "execution_count": 11,
   "metadata": {
    "collapsed": false
   },
   "outputs": [
    {
     "name": "stderr",
     "output_type": "stream",
     "text": [
      "INFO:root:Epoch[0] Train-accuracy=0.901997\n",
      "INFO:root:Epoch[0] Time cost=152.544\n",
      "INFO:root:Saved checkpoint to \"../../data/mxnet-mnist-cn-0001.params\"\n",
      "INFO:root:Epoch[0] Validation-accuracy=0.903441\n",
      "INFO:root:Epoch[1] Train-accuracy=0.909876\n",
      "INFO:root:Epoch[1] Time cost=153.703\n",
      "INFO:root:Saved checkpoint to \"../../data/mxnet-mnist-cn-0002.params\"\n",
      "INFO:root:Epoch[1] Validation-accuracy=0.913430\n",
      "INFO:root:Epoch[2] Train-accuracy=0.921700\n",
      "INFO:root:Epoch[2] Time cost=156.109\n",
      "INFO:root:Saved checkpoint to \"../../data/mxnet-mnist-cn-0003.params\"\n",
      "INFO:root:Epoch[2] Validation-accuracy=0.923536\n",
      "INFO:root:Epoch[3] Train-accuracy=0.933645\n",
      "INFO:root:Epoch[3] Time cost=153.288\n",
      "INFO:root:Saved checkpoint to \"../../data/mxnet-mnist-cn-0004.params\"\n",
      "INFO:root:Epoch[3] Validation-accuracy=0.942484\n",
      "INFO:root:Epoch[4] Train-accuracy=0.945044\n",
      "INFO:root:Epoch[4] Time cost=152.634\n",
      "INFO:root:Saved checkpoint to \"../../data/mxnet-mnist-cn-0005.params\"\n",
      "INFO:root:Epoch[4] Validation-accuracy=0.968888\n"
     ]
    }
   ],
   "source": [
    "import logging\n",
    "logging.getLogger().setLevel(logging.DEBUG)\n",
    "\n",
    "train_gen.reset()\n",
    "val_gen.reset()\n",
    "\n",
    "model = mx.mod.Module(symbol=net, data_names=[\"data\"], label_names=[\"softmax_label\"])\n",
    "\n",
    "checkpoint = mx.callback.do_checkpoint(MODEL_FILE)\n",
    "model.fit(train_gen, \n",
    "          eval_data=val_gen, \n",
    "          optimizer=\"adam\", \n",
    "          optimizer_params={\"learning_rate\": LEARNING_RATE},\n",
    "          eval_metric=\"acc\",\n",
    "          num_epoch=NUM_EPOCHS,\n",
    "          epoch_end_callback=checkpoint)"
   ]
  },
  {
   "cell_type": "markdown",
   "metadata": {},
   "source": [
    "## Evaluate Network"
   ]
  },
  {
   "cell_type": "code",
   "execution_count": 12,
   "metadata": {
    "collapsed": false
   },
   "outputs": [
    {
     "name": "stdout",
     "output_type": "stream",
     "text": [
      "[('accuracy', 0.9688884493670886)]\n"
     ]
    }
   ],
   "source": [
    "test_gen = mx.io.NDArrayIter(Xtest, label=Ytest, batch_size=BATCH_SIZE)\n",
    "test_accuracy = model.score(test_gen, eval_metric=\"acc\")\n",
    "print(test_accuracy)"
   ]
  },
  {
   "cell_type": "code",
   "execution_count": null,
   "metadata": {
    "collapsed": true
   },
   "outputs": [],
   "source": []
  }
 ],
 "metadata": {
  "kernelspec": {
   "display_name": "Python 2",
   "language": "python",
   "name": "python2"
  },
  "language_info": {
   "codemirror_mode": {
    "name": "ipython",
    "version": 2
   },
   "file_extension": ".py",
   "mimetype": "text/x-python",
   "name": "python",
   "nbconvert_exporter": "python",
   "pygments_lexer": "ipython2",
   "version": "2.7.13"
  }
 },
 "nbformat": 4,
 "nbformat_minor": 2
}
