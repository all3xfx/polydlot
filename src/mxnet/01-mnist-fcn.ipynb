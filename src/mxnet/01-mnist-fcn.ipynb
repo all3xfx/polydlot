{
 "cells": [
  {
   "cell_type": "markdown",
   "metadata": {},
   "source": [
    "# MNIST Digit Classification - FCN"
   ]
  },
  {
   "cell_type": "code",
   "execution_count": 1,
   "metadata": {
    "collapsed": true
   },
   "outputs": [],
   "source": [
    "from __future__ import division, print_function\n",
    "from sklearn.metrics import accuracy_score, confusion_matrix\n",
    "from sklearn.preprocessing import OneHotEncoder\n",
    "import matplotlib.pyplot as plt\n",
    "import mxnet as mx\n",
    "import numpy as np\n",
    "import os\n",
    "%matplotlib inline"
   ]
  },
  {
   "cell_type": "code",
   "execution_count": 2,
   "metadata": {
    "collapsed": true
   },
   "outputs": [],
   "source": [
    "DATA_DIR = \"../../data\"\n",
    "TRAIN_FILE = os.path.join(DATA_DIR, \"mnist_train.csv\")\n",
    "TEST_FILE = os.path.join(DATA_DIR, \"mnist_test.csv\")\n",
    "\n",
    "MODEL_FILE = os.path.join(DATA_DIR, \"mxnet-mnist-fcn\")\n",
    "\n",
    "LEARNING_RATE = 0.001\n",
    "INPUT_SIZE = 28*28\n",
    "BATCH_SIZE = 128\n",
    "NUM_CLASSES = 10\n",
    "NUM_EPOCHS = 10"
   ]
  },
  {
   "cell_type": "markdown",
   "metadata": {},
   "source": [
    "## Prepare Data"
   ]
  },
  {
   "cell_type": "code",
   "execution_count": 9,
   "metadata": {
    "collapsed": false
   },
   "outputs": [
    {
     "name": "stdout",
     "output_type": "stream",
     "text": [
      "mnist_train.csv: 0 lines read\n",
      "mnist_train.csv: 10000 lines read\n",
      "mnist_train.csv: 20000 lines read\n",
      "mnist_train.csv: 30000 lines read\n",
      "mnist_train.csv: 40000 lines read\n",
      "mnist_train.csv: 50000 lines read\n",
      "mnist_train.csv: 60000 lines read\n",
      "mnist_test.csv: 0 lines read\n",
      "mnist_test.csv: 10000 lines read\n",
      "(60000, 784) (60000, 10) (10000, 784) (10000, 10)\n"
     ]
    }
   ],
   "source": [
    "def parse_file(filename):\n",
    "    xdata, ydata = [], []\n",
    "    fin = open(filename, \"rb\")\n",
    "    i = 0\n",
    "    for line in fin:\n",
    "        if i % 10000 == 0:\n",
    "            print(\"{:s}: {:d} lines read\".format(\n",
    "                os.path.basename(filename), i))\n",
    "        cols = line.strip().split(\",\")\n",
    "        ydata.append(int(cols[0]))\n",
    "#         xdata.append([float(x) / 255. for x in cols[1:]])\n",
    "        xdata.append([float(x) for x in cols[1:]])\n",
    "        i += 1\n",
    "    fin.close()\n",
    "    print(\"{:s}: {:d} lines read\".format(os.path.basename(filename), i))\n",
    "    X = np.array(xdata)\n",
    "    ohe = OneHotEncoder(n_values=NUM_CLASSES)\n",
    "    Y = ohe.fit_transform([ydata]).todense().reshape(len(ydata), -1)\n",
    "    return X, Y\n",
    "\n",
    "Xtrain, Ytrain = parse_file(TRAIN_FILE)\n",
    "Xtest, Ytest = parse_file(TEST_FILE)\n",
    "print(Xtrain.shape, Ytrain.shape, Xtest.shape, Ytest.shape)"
   ]
  },
  {
   "cell_type": "code",
   "execution_count": 10,
   "metadata": {
    "collapsed": false
   },
   "outputs": [],
   "source": [
    "train_gen = mx.io.NDArrayIter(Xtrain, label=Ytrain, batch_size=BATCH_SIZE, shuffle=True)\n",
    "val_gen = mx.io.NDArrayIter(Xtest, label=Ytest, batch_size=BATCH_SIZE)"
   ]
  },
  {
   "cell_type": "markdown",
   "metadata": {},
   "source": [
    "## Define Model"
   ]
  },
  {
   "cell_type": "code",
   "execution_count": 11,
   "metadata": {
    "collapsed": false
   },
   "outputs": [],
   "source": [
    "# Create a place holder variable for the input data\n",
    "data = mx.sym.Variable('data')\n",
    "# FC1: 784 => 128\n",
    "fc1  = mx.sym.FullyConnected(data=data, name='fc1', num_hidden=128)\n",
    "fc1 = mx.sym.Activation(data=fc1, name='relu1', act_type=\"relu\")\n",
    "fc1 = mx.sym.Dropout(data=fc1, name=\"drop1\", p=0.2)\n",
    "# FC2: 128 => 64\n",
    "fc2  = mx.sym.FullyConnected(data=fc1, name='fc2', num_hidden=64)\n",
    "fc2 = mx.sym.Activation(data=fc2, name='relu2', act_type=\"relu\")\n",
    "fc2 = mx.sym.Dropout(data=fc2, name=\"drop2\", p=0.2)\n",
    "# FC3: 64 => 10\n",
    "fc3  = mx.sym.FullyConnected(data=fc2, name='fc3', num_hidden=NUM_CLASSES)\n",
    "# The softmax and loss layer\n",
    "net  = mx.sym.SoftmaxOutput(data=fc3, name='softmax')"
   ]
  },
  {
   "cell_type": "markdown",
   "metadata": {},
   "source": [
    "## Train Network\n",
    "\n",
    "No built-in method to capture loss and accuracy during training. One can register a custom callback to collect the training accuracy at the end of every epoch, but apparently the general approach in the MXNet community is to eyeball the numbers."
   ]
  },
  {
   "cell_type": "code",
   "execution_count": 12,
   "metadata": {
    "collapsed": false
   },
   "outputs": [
    {
     "name": "stderr",
     "output_type": "stream",
     "text": [
      "INFO:root:Epoch[0] Train-accuracy=0.900528\n",
      "INFO:root:Epoch[0] Time cost=4.420\n",
      "INFO:root:Saved checkpoint to \"../../data/mxnet-mnist-fcn-0001.params\"\n",
      "INFO:root:Epoch[0] Validation-accuracy=0.900732\n",
      "INFO:root:Epoch[1] Train-accuracy=0.903641\n",
      "INFO:root:Epoch[1] Time cost=4.675\n",
      "INFO:root:Saved checkpoint to \"../../data/mxnet-mnist-fcn-0002.params\"\n",
      "INFO:root:Epoch[1] Validation-accuracy=0.903432\n",
      "INFO:root:Epoch[2] Train-accuracy=0.907108\n",
      "INFO:root:Epoch[2] Time cost=4.431\n",
      "INFO:root:Saved checkpoint to \"../../data/mxnet-mnist-fcn-0003.params\"\n",
      "INFO:root:Epoch[2] Validation-accuracy=0.906339\n",
      "INFO:root:Epoch[3] Train-accuracy=0.911914\n",
      "INFO:root:Epoch[3] Time cost=4.675\n",
      "INFO:root:Saved checkpoint to \"../../data/mxnet-mnist-fcn-0004.params\"\n",
      "INFO:root:Epoch[3] Validation-accuracy=0.911284\n",
      "INFO:root:Epoch[4] Train-accuracy=0.916744\n",
      "INFO:root:Epoch[4] Time cost=4.923\n",
      "INFO:root:Saved checkpoint to \"../../data/mxnet-mnist-fcn-0005.params\"\n",
      "INFO:root:Epoch[4] Validation-accuracy=0.916367\n",
      "INFO:root:Epoch[5] Train-accuracy=0.919689\n",
      "INFO:root:Epoch[5] Time cost=4.893\n",
      "INFO:root:Saved checkpoint to \"../../data/mxnet-mnist-fcn-0006.params\"\n",
      "INFO:root:Epoch[5] Validation-accuracy=0.923724\n",
      "INFO:root:Epoch[6] Train-accuracy=0.923829\n",
      "INFO:root:Epoch[6] Time cost=4.436\n",
      "INFO:root:Saved checkpoint to \"../../data/mxnet-mnist-fcn-0007.params\"\n",
      "INFO:root:Epoch[6] Validation-accuracy=0.926632\n",
      "INFO:root:Epoch[7] Train-accuracy=0.927071\n",
      "INFO:root:Epoch[7] Time cost=4.685\n",
      "INFO:root:Saved checkpoint to \"../../data/mxnet-mnist-fcn-0008.params\"\n",
      "INFO:root:Epoch[7] Validation-accuracy=0.923803\n",
      "INFO:root:Epoch[8] Train-accuracy=0.929866\n",
      "INFO:root:Epoch[8] Time cost=4.482\n",
      "INFO:root:Saved checkpoint to \"../../data/mxnet-mnist-fcn-0009.params\"\n",
      "INFO:root:Epoch[8] Validation-accuracy=0.930825\n",
      "INFO:root:Epoch[9] Train-accuracy=0.932438\n",
      "INFO:root:Epoch[9] Time cost=4.813\n",
      "INFO:root:Saved checkpoint to \"../../data/mxnet-mnist-fcn-0010.params\"\n",
      "INFO:root:Epoch[9] Validation-accuracy=0.939784\n"
     ]
    }
   ],
   "source": [
    "import logging\n",
    "logging.getLogger().setLevel(logging.DEBUG)\n",
    "\n",
    "train_gen.reset()\n",
    "val_gen.reset()\n",
    "\n",
    "model = mx.mod.Module(symbol=net, data_names=[\"data\"], label_names=[\"softmax_label\"])\n",
    "\n",
    "checkpoint = mx.callback.do_checkpoint(MODEL_FILE)\n",
    "num_batches_per_epoch = len(Xtrain) // BATCH_SIZE\n",
    "model.fit(train_gen, \n",
    "          eval_data=val_gen, \n",
    "          optimizer=\"adam\", \n",
    "          optimizer_params={\"learning_rate\": LEARNING_RATE},\n",
    "          eval_metric=\"acc\",\n",
    "          num_epoch=NUM_EPOCHS,\n",
    "          epoch_end_callback=checkpoint)"
   ]
  },
  {
   "cell_type": "markdown",
   "metadata": {
    "collapsed": true
   },
   "source": [
    "## Evaluate Model"
   ]
  },
  {
   "cell_type": "code",
   "execution_count": 14,
   "metadata": {
    "collapsed": false
   },
   "outputs": [
    {
     "name": "stdout",
     "output_type": "stream",
     "text": [
      "[('accuracy', 0.939784414556962)]\n"
     ]
    }
   ],
   "source": [
    "test_gen = mx.io.NDArrayIter(Xtest, label=Ytest, batch_size=BATCH_SIZE)\n",
    "test_accuracy = model.score(test_gen, eval_metric=\"acc\")\n",
    "print(test_accuracy)"
   ]
  },
  {
   "cell_type": "code",
   "execution_count": null,
   "metadata": {
    "collapsed": true
   },
   "outputs": [],
   "source": []
  }
 ],
 "metadata": {
  "anaconda-cloud": {},
  "kernelspec": {
   "display_name": "Python [conda root]",
   "language": "python",
   "name": "conda-root-py"
  },
  "language_info": {
   "codemirror_mode": {
    "name": "ipython",
    "version": 2
   },
   "file_extension": ".py",
   "mimetype": "text/x-python",
   "name": "python",
   "nbconvert_exporter": "python",
   "pygments_lexer": "ipython2",
   "version": "2.7.12"
  }
 },
 "nbformat": 4,
 "nbformat_minor": 2
}
