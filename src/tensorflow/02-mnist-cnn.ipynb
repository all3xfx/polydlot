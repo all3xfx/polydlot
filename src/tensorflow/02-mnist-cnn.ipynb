{
 "cells": [
  {
   "cell_type": "markdown",
   "metadata": {},
   "source": [
    "# MNIST Digit Recognition - CNN"
   ]
  },
  {
   "cell_type": "code",
   "execution_count": 1,
   "metadata": {
    "collapsed": true
   },
   "outputs": [],
   "source": [
    "from __future__ import division, print_function\n",
    "from sklearn.preprocessing import OneHotEncoder\n",
    "from sklearn.metrics import accuracy_score, confusion_matrix\n",
    "import numpy as np\n",
    "import matplotlib.pyplot as plt\n",
    "import os\n",
    "import tensorflow as tf\n",
    "%matplotlib inline"
   ]
  },
  {
   "cell_type": "code",
   "execution_count": 2,
   "metadata": {
    "collapsed": true
   },
   "outputs": [],
   "source": [
    "DATA_DIR = \"../../data\"\n",
    "TRAIN_FILE = os.path.join(DATA_DIR, \"mnist_train.csv\")\n",
    "TEST_FILE = os.path.join(DATA_DIR, \"mnist_test.csv\")\n",
    "\n",
    "LOG_DIR = os.path.join(DATA_DIR, \"tf-mnist-cnn-logs\")\n",
    "MODEL_FILE = os.path.join(DATA_DIR, \"tf-mnist-cnn\")\n",
    "\n",
    "IMG_SIZE = 28\n",
    "LEARNING_RATE = 0.001\n",
    "BATCH_SIZE = 128\n",
    "NUM_CLASSES = 10\n",
    "NUM_EPOCHS = 5"
   ]
  },
  {
   "cell_type": "markdown",
   "metadata": {},
   "source": [
    "## Prepare Data"
   ]
  },
  {
   "cell_type": "code",
   "execution_count": 3,
   "metadata": {
    "collapsed": false
   },
   "outputs": [
    {
     "name": "stdout",
     "output_type": "stream",
     "text": [
      "mnist_train.csv: 0 lines read\n",
      "mnist_train.csv: 10000 lines read\n",
      "mnist_train.csv: 20000 lines read\n",
      "mnist_train.csv: 30000 lines read\n",
      "mnist_train.csv: 40000 lines read\n",
      "mnist_train.csv: 50000 lines read\n",
      "mnist_train.csv: 60000 lines read\n",
      "mnist_test.csv: 0 lines read\n",
      "mnist_test.csv: 10000 lines read\n",
      "(60000, 28, 28, 1) (60000,) (10000, 28, 28, 1) (10000,)\n"
     ]
    }
   ],
   "source": [
    "def parse_file(filename):\n",
    "    xdata, ydata = [], []\n",
    "    fin = open(filename, \"rb\")\n",
    "    i = 0\n",
    "    for line in fin:\n",
    "        if i % 10000 == 0:\n",
    "            print(\"{:s}: {:d} lines read\".format(\n",
    "                os.path.basename(filename), i))\n",
    "        cols = line.strip().split(\",\")\n",
    "        ydata.append(int(cols[0]))\n",
    "        xdata.append(np.reshape(np.array([float(x) / 255. \n",
    "            for x in cols[1:]]), (IMG_SIZE, IMG_SIZE, 1)))\n",
    "        i += 1\n",
    "    fin.close()\n",
    "    print(\"{:s}: {:d} lines read\".format(os.path.basename(filename), i))\n",
    "    y = np.array(ydata)\n",
    "    X = np.array(xdata)\n",
    "    return X, y\n",
    "\n",
    "Xtrain, ytrain = parse_file(TRAIN_FILE)\n",
    "Xtest, ytest = parse_file(TEST_FILE)\n",
    "print(Xtrain.shape, ytrain.shape, Xtest.shape, ytest.shape)"
   ]
  },
  {
   "cell_type": "code",
   "execution_count": 4,
   "metadata": {
    "collapsed": false
   },
   "outputs": [
    {
     "name": "stdout",
     "output_type": "stream",
     "text": [
      "(128, 28, 28, 1) (128, 10)\n"
     ]
    }
   ],
   "source": [
    "def datagen(X, y, batch_size=BATCH_SIZE, num_classes=NUM_CLASSES):\n",
    "    ohe = OneHotEncoder(n_values=num_classes)\n",
    "    while True:\n",
    "        shuffled_indices = np.random.permutation(np.arange(len(y)))\n",
    "        num_batches = len(y) // batch_size\n",
    "        for bid in range(num_batches):\n",
    "            batch_indices = shuffled_indices[bid*batch_size:(bid+1)*batch_size]\n",
    "            Xbatch = np.zeros((batch_size, X.shape[1], X.shape[2], X.shape[3]))\n",
    "            Ybatch = np.zeros((batch_size, num_classes))\n",
    "            for i in range(batch_size):\n",
    "                Xbatch[i] = X[batch_indices[i]]\n",
    "                Ybatch[i] = ohe.fit_transform(y[batch_indices[i]]).todense()\n",
    "            yield Xbatch, Ybatch\n",
    "\n",
    "self_test_gen = datagen(Xtrain, ytrain)\n",
    "Xbatch, Ybatch = self_test_gen.next()\n",
    "print(Xbatch.shape, Ybatch.shape)"
   ]
  },
  {
   "cell_type": "markdown",
   "metadata": {},
   "source": [
    "## Define Network"
   ]
  },
  {
   "cell_type": "code",
   "execution_count": 5,
   "metadata": {
    "collapsed": true
   },
   "outputs": [],
   "source": [
    "with tf.name_scope(\"data\"):\n",
    "    X = tf.placeholder(tf.float32, [None, IMG_SIZE, IMG_SIZE, 1], name=\"X\")\n",
    "    Y = tf.placeholder(tf.float32, [None, NUM_CLASSES], name=\"Y\")"
   ]
  },
  {
   "cell_type": "code",
   "execution_count": 6,
   "metadata": {
    "collapsed": false
   },
   "outputs": [],
   "source": [
    "def conv2d(x, W, b, strides=1):\n",
    "    x = tf.nn.conv2d(x, W, strides=[1, strides, strides, 1], padding=\"SAME\")\n",
    "    x = tf.nn.bias_add(x, b)\n",
    "    return tf.nn.relu(x)\n",
    "\n",
    "def maxpool2d(x, k=2):\n",
    "    return tf.nn.max_pool(x, ksize=[1, k, k, 1], strides=[1, k, k, 1],\n",
    "                          padding=\"SAME\")\n",
    "\n",
    "def network(x, dropout=0.75):\n",
    "    # CONV-1: 5x5 kernel, channels 1 => 32\n",
    "    W1 = tf.Variable(tf.random_normal([5, 5, 1, 32]))\n",
    "    b1 = tf.Variable(tf.random_normal([32]))\n",
    "    conv1 = conv2d(x, W1, b1)\n",
    "    # MAXPOOL-1\n",
    "    conv1 = maxpool2d(conv1, 2)\n",
    "    # CONV-2: 5x5 kernel, channels 32 => 64\n",
    "    W2 = tf.Variable(tf.random_normal([5, 5, 32, 64]))\n",
    "    b2 = tf.Variable(tf.random_normal([64]))\n",
    "    conv2 = conv2d(conv1, W2, b2)\n",
    "    # MAXPOOL-2\n",
    "    conv2 = maxpool2d(conv2, k=2)\n",
    "    # FC1: input=(None, 7, 7, 64), output=(None, 1024)\n",
    "    flatten = tf.reshape(conv2, [-1, 7*7*64])\n",
    "    W3 = tf.Variable(tf.random_normal([7*7*64, 1024]))\n",
    "    b3 = tf.Variable(tf.random_normal([1024]))\n",
    "    fc1 = tf.add(tf.matmul(flatten, W3), b3)\n",
    "    fc1 = tf.nn.relu(fc1)\n",
    "    # Apply Dropout\n",
    "    fc1 = tf.nn.dropout(fc1, dropout)\n",
    "    # Output, class prediction (1024 => 10)\n",
    "    W4 = tf.Variable(tf.random_normal([1024, NUM_CLASSES]))\n",
    "    b4 = tf.Variable(tf.random_normal([NUM_CLASSES]))\n",
    "    pred = tf.add(tf.matmul(fc1, W4), b4)\n",
    "    return pred\n",
    "\n",
    "# define network\n",
    "Y_ = network(X, 0.75)"
   ]
  },
  {
   "cell_type": "code",
   "execution_count": 7,
   "metadata": {
    "collapsed": false
   },
   "outputs": [],
   "source": [
    "loss = tf.reduce_mean(tf.nn.softmax_cross_entropy_with_logits(\n",
    "    logits=Y_, labels=Y))\n",
    "optimizer = tf.train.AdamOptimizer(\n",
    "    learning_rate=LEARNING_RATE).minimize(loss)"
   ]
  },
  {
   "cell_type": "code",
   "execution_count": 8,
   "metadata": {
    "collapsed": true
   },
   "outputs": [],
   "source": [
    "correct_pred = tf.equal(tf.argmax(Y, 1), tf.argmax(Y_, 1))\n",
    "accuracy = tf.reduce_mean(tf.cast(correct_pred, tf.float32))"
   ]
  },
  {
   "cell_type": "code",
   "execution_count": 9,
   "metadata": {
    "collapsed": true
   },
   "outputs": [],
   "source": [
    "tf.summary.scalar(\"loss\", loss)\n",
    "tf.summary.scalar(\"accuracy\", accuracy)\n",
    "# Merge all summaries into a single op\n",
    "merged_summary_op = tf.summary.merge_all()"
   ]
  },
  {
   "cell_type": "markdown",
   "metadata": {},
   "source": [
    "## Train Network"
   ]
  },
  {
   "cell_type": "code",
   "execution_count": 10,
   "metadata": {
    "collapsed": false
   },
   "outputs": [
    {
     "name": "stdout",
     "output_type": "stream",
     "text": [
      "Epoch 1/5: loss=5584.093, accuracy=0.780\n",
      "Epoch 2/5: loss=678.500, accuracy=0.929\n",
      "Epoch 3/5: loss=356.641, accuracy=0.949\n",
      "Epoch 4/5: loss=225.928, accuracy=0.960\n",
      "Epoch 5/5: loss=158.486, accuracy=0.966\n"
     ]
    }
   ],
   "source": [
    "history = []\n",
    "with tf.Session() as sess:\n",
    "    sess.run(tf.global_variables_initializer())\n",
    "    saver = tf.train.Saver()\n",
    "    # tensorboard viz\n",
    "    logger = tf.summary.FileWriter(LOG_DIR, sess.graph)\n",
    "\n",
    "    train_gen = datagen(Xtrain, ytrain, BATCH_SIZE)\n",
    "    num_batches = len(Xtrain) // BATCH_SIZE\n",
    "    for epoch in range(NUM_EPOCHS):\n",
    "        total_loss, total_acc = 0., 0.\n",
    "        for bid in range(num_batches):\n",
    "            Xbatch, Ybatch = train_gen.next()\n",
    "            _, batch_loss, batch_acc, Ybatch_, summary = sess.run(\n",
    "                [optimizer, loss, accuracy, Y_, merged_summary_op], \n",
    "                feed_dict={X: Xbatch, Y:Ybatch}) \n",
    "            # write to tensorboard\n",
    "            logger.add_summary(summary, epoch * num_batches + bid)\n",
    "            # accumulate to print once per epoch\n",
    "            total_acc += batch_acc\n",
    "            total_loss += batch_loss\n",
    "\n",
    "        total_acc /= num_batches\n",
    "        total_loss /= num_batches\n",
    "        print(\"Epoch {:d}/{:d}: loss={:.3f}, accuracy={:.3f}\".format(\n",
    "            (epoch + 1), NUM_EPOCHS, total_loss, total_acc))\n",
    "        saver.save(sess, MODEL_FILE, (epoch + 1))\n",
    "        history.append((total_loss, total_acc))\n",
    "\n",
    "logger.close()"
   ]
  },
  {
   "cell_type": "code",
   "execution_count": 11,
   "metadata": {
    "collapsed": false
   },
   "outputs": [
    {
     "data": {
      "image/png": "[encoded data removed]",
      "text/plain": [
       "<matplotlib.figure.Figure at 0x119d46750>"
      ]
     },
     "metadata": {},
     "output_type": "display_data"
    }
   ],
   "source": [
    "losses = [x[0] for x in history]\n",
    "accs = [x[1] for x in history]\n",
    "\n",
    "plt.subplot(211)\n",
    "plt.title(\"Accuracy\")\n",
    "plt.plot(accs)\n",
    "\n",
    "plt.subplot(212)\n",
    "plt.title(\"Loss\")\n",
    "plt.plot(losses)\n",
    "\n",
    "plt.tight_layout()\n",
    "plt.show()"
   ]
  },
  {
   "cell_type": "markdown",
   "metadata": {},
   "source": [
    "## Visualize with Tensorboard\n",
    "\n",
    "We have also requested the total_loss and total_accuracy scalars to be logged in our computational graph, so the above charts can also be seen from the built-in tensorboard tool. The scalars are logged to the directory given by LOG_DIR, so we can start the tensorboard tool from the command line:\n",
    "\n",
    "    $ cd ../../data\n",
    "    $ tensorboard --logdir=tf-mnist-cnn-logs\n",
    "    Starting TensorBoard 54 at http://localhost:6006\n",
    "    (Press CTRL+C to quit)\n",
    "    \n",
    "We can then view the [visualizations on tensorboard] (http://localhost:6006)"
   ]
  },
  {
   "cell_type": "markdown",
   "metadata": {},
   "source": [
    "## Evaluate Network"
   ]
  },
  {
   "cell_type": "code",
   "execution_count": 12,
   "metadata": {
    "collapsed": false
   },
   "outputs": [
    {
     "name": "stdout",
     "output_type": "stream",
     "text": [
      "INFO:tensorflow:Restoring parameters from ../../data/tf-mnist-cnn-5\n",
      "Accuracy: 0.9639\n",
      "Confusion Matrix\n",
      "[[5753    1   28    9    8   12   70    5   33   23]\n",
      " [   3 6674   22    0    7    3   11   23    1   28]\n",
      " [  15   11 5934   31   13    0    8   92   31   20]\n",
      " [   7   20   47 5897    0   70    4   38   62   25]\n",
      " [   0   12   14    0 5685    0   11   16   18   93]\n",
      " [  12    4    2   27    5 5118   42    4   20   33]\n",
      " [  34   11   17    7   32   39 5543    0   19    5]\n",
      " [   7    4   46   24   17    8    0 5872   26   45]\n",
      " [  40   62   73   44   37   72   55   34 5586   93]\n",
      " [   4    2    2   13   79   17    0   66   35 5679]]\n"
     ]
    }
   ],
   "source": [
    "BEST_MODEL = os.path.join(DATA_DIR, \"tf-mnist-cnn-5\")\n",
    "saver = tf.train.Saver()\n",
    "ys, ys_ = [], []\n",
    "with tf.Session() as sess:\n",
    "    sess.run(tf.global_variables_initializer())\n",
    "    saver.restore(sess, BEST_MODEL)\n",
    "    test_gen = datagen(Xtest, ytest, BATCH_SIZE)\n",
    "    val_loss, val_acc = 0., 0.\n",
    "    num_batches = len(Xtrain) // BATCH_SIZE\n",
    "    for _ in range(num_batches):\n",
    "        Xbatch, Ybatch = test_gen.next()\n",
    "        Ybatch_ = sess.run(Y_, feed_dict={X: Xbatch, Y:Ybatch})\n",
    "        ys.extend(np.argmax(Ybatch, axis=1))\n",
    "        ys_.extend(np.argmax(Ybatch_, axis=1))\n",
    "\n",
    "acc = accuracy_score(ys_, ys)\n",
    "cm = confusion_matrix(ys_, ys)\n",
    "print(\"Accuracy: {:.4f}\".format(acc))\n",
    "print(\"Confusion Matrix\")\n",
    "print(cm)"
   ]
  },
  {
   "cell_type": "code",
   "execution_count": null,
   "metadata": {
    "collapsed": true
   },
   "outputs": [],
   "source": []
  }
 ],
 "metadata": {
  "kernelspec": {
   "display_name": "Python 2",
   "language": "python",
   "name": "python2"
  },
  "language_info": {
   "codemirror_mode": {
    "name": "ipython",
    "version": 2
   },
   "file_extension": ".py",
   "mimetype": "text/x-python",
   "name": "python",
   "nbconvert_exporter": "python",
   "pygments_lexer": "ipython2",
   "version": "2.7.13"
  }
 },
 "nbformat": 4,
 "nbformat_minor": 0
}
