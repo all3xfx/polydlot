{
 "cells": [
  {
   "cell_type": "markdown",
   "metadata": {},
   "source": [
    "# Linear Regression with Boston Housing Dataset"
   ]
  },
  {
   "cell_type": "code",
   "execution_count": 1,
   "metadata": {
    "collapsed": true
   },
   "outputs": [],
   "source": [
    "from __future__ import division, print_function\n",
    "from sklearn.preprocessing import StandardScaler\n",
    "from sklearn.model_selection import train_test_split\n",
    "import tensorflow as tf\n",
    "import matplotlib.pyplot as plt\n",
    "import numpy as np\n",
    "import os\n",
    "%matplotlib inline"
   ]
  },
  {
   "cell_type": "code",
   "execution_count": 2,
   "metadata": {
    "collapsed": true
   },
   "outputs": [],
   "source": [
    "DATA_DIR = \"../../data\""
   ]
  },
  {
   "cell_type": "markdown",
   "metadata": {},
   "source": [
    "## Prepare Data"
   ]
  },
  {
   "cell_type": "code",
   "execution_count": 3,
   "metadata": {
    "collapsed": false
   },
   "outputs": [
    {
     "name": "stdout",
     "output_type": "stream",
     "text": [
      "(506, 13) (506, 1)\n"
     ]
    }
   ],
   "source": [
    "fdata = open(os.path.join(DATA_DIR, \"housing.data\"), \"rb\")\n",
    "data, prices = [], []\n",
    "for line in fdata:\n",
    "    cols = [float(x) for x in line.strip().split()]\n",
    "    data.append(np.array(cols[:-1]))\n",
    "    prices.append(cols[-1])\n",
    "fdata.close()\n",
    "\n",
    "X = np.array(data)\n",
    "y = np.array(prices).reshape(-1, 1)\n",
    "print(X.shape, y.shape)"
   ]
  },
  {
   "cell_type": "code",
   "execution_count": 4,
   "metadata": {
    "collapsed": false
   },
   "outputs": [],
   "source": [
    "scaler = StandardScaler()\n",
    "Xs = scaler.fit_transform(X)"
   ]
  },
  {
   "cell_type": "code",
   "execution_count": 5,
   "metadata": {
    "collapsed": false
   },
   "outputs": [
    {
     "name": "stdout",
     "output_type": "stream",
     "text": [
      "(455, 13) (455, 1) (51, 13) (51, 1)\n"
     ]
    }
   ],
   "source": [
    "Xtrain, Xtest, ytrain, ytest = train_test_split(Xs, y, train_size=0.9)\n",
    "print(Xtrain.shape, ytrain.shape, Xtest.shape, ytest.shape)"
   ]
  },
  {
   "cell_type": "markdown",
   "metadata": {},
   "source": [
    "## Define Network"
   ]
  },
  {
   "cell_type": "code",
   "execution_count": 6,
   "metadata": {
    "collapsed": true
   },
   "outputs": [],
   "source": [
    "X = tf.placeholder(tf.float32, [None, 13], name=\"X\")\n",
    "y = tf.placeholder(tf.float32, [None, 1], name=\"y\")"
   ]
  },
  {
   "cell_type": "code",
   "execution_count": 7,
   "metadata": {
    "collapsed": true
   },
   "outputs": [],
   "source": [
    "W = tf.Variable(tf.random_normal([13, 1]), name=\"W\")\n",
    "b = tf.Variable(tf.random_normal([1, 1]), name=\"b\")"
   ]
  },
  {
   "cell_type": "code",
   "execution_count": 8,
   "metadata": {
    "collapsed": true
   },
   "outputs": [],
   "source": [
    "y_ = tf.add(tf.matmul(X, W), b)"
   ]
  },
  {
   "cell_type": "code",
   "execution_count": 9,
   "metadata": {
    "collapsed": true
   },
   "outputs": [],
   "source": [
    "loss = tf.reduce_mean(tf.pow(y - y_, 2))"
   ]
  },
  {
   "cell_type": "code",
   "execution_count": 10,
   "metadata": {
    "collapsed": true
   },
   "outputs": [],
   "source": [
    "optimizer = tf.train.AdamOptimizer(0.001).minimize(loss)"
   ]
  },
  {
   "cell_type": "markdown",
   "metadata": {},
   "source": [
    "## Train Network"
   ]
  },
  {
   "cell_type": "code",
   "execution_count": 11,
   "metadata": {
    "collapsed": false
   },
   "outputs": [
    {
     "name": "stdout",
     "output_type": "stream",
     "text": [
      "# steps: 1000, loss: 434.867, epsilon: 0.05377\n",
      "# steps: 2000, loss: 387.008, epsilon: 0.04297\n",
      "# steps: 3000, loss: 347.285, epsilon: 0.03702\n",
      "# steps: 4000, loss: 312.141, epsilon: 0.03351\n",
      "# steps: 5000, loss: 279.890, epsilon: 0.03110\n",
      "# steps: 6000, loss: 250.017, epsilon: 0.02872\n",
      "# steps: 7000, loss: 222.377, epsilon: 0.02663\n",
      "# steps: 8000, loss: 196.811, epsilon: 0.02461\n",
      "# steps: 9000, loss: 173.167, epsilon: 0.02275\n",
      "# steps: 10000, loss: 151.370, epsilon: 0.02089\n",
      "# steps: 11000, loss: 131.396, epsilon: 0.01906\n",
      "# steps: 12000, loss: 113.234, epsilon: 0.01727\n",
      "# steps: 13000, loss: 96.866, epsilon: 0.01548\n",
      "# steps: 14000, loss: 82.273, epsilon: 0.01370\n",
      "# steps: 15000, loss: 69.431, epsilon: 0.01197\n",
      "# steps: 16000, loss: 58.310, epsilon: 0.01028\n",
      "# steps: 17000, loss: 48.874, epsilon: 0.00861\n",
      "# steps: 18000, loss: 41.075, epsilon: 0.00699\n",
      "# steps: 19000, loss: 34.853, epsilon: 0.00546\n",
      "# steps: 20000, loss: 30.126, epsilon: 0.00401\n",
      "# steps: 21000, loss: 26.783, epsilon: 0.00270\n",
      "# steps: 22000, loss: 24.666, epsilon: 0.00158\n",
      "# steps: 23000, loss: 23.546, epsilon: 0.00072\n",
      "# steps: 24000, loss: 23.116, epsilon: 0.00020\n",
      "# steps: 25000, loss: 23.024, epsilon: 0.00002\n",
      "# steps: 25104, loss: 23.021, epsilon: 0.00001\n"
     ]
    }
   ],
   "source": [
    "losses, preds = [], []\n",
    "with tf.Session() as sess:\n",
    "    sess.run(tf.global_variables_initializer())\n",
    "    prev_loss, epsilon, num_steps = None, None, 0\n",
    "    while True:\n",
    "        if num_steps % 1000 == 0 and num_steps > 0:\n",
    "            print(\"# steps: {:d}, loss: {:.3f}, epsilon: {:.5f}\"\n",
    "                .format(num_steps, prev_loss, epsilon))\n",
    "        _, loss_val = sess.run([optimizer, loss], feed_dict={\n",
    "            X: Xtrain, y: ytrain})\n",
    "        losses.append(loss_val)\n",
    "        if prev_loss == None:\n",
    "            epsilon = loss_val\n",
    "        else:\n",
    "            epsilon = prev_loss - loss_val\n",
    "        if epsilon < 1e-5:\n",
    "            break\n",
    "        prev_loss = loss_val\n",
    "        num_steps += 1\n",
    "    print(\"# steps: {:d}, loss: {:.3f}, epsilon: {:.5f}\"\n",
    "        .format(num_steps, prev_loss, epsilon))\n",
    "    W_val, b_val = sess.run([W, b])"
   ]
  },
  {
   "cell_type": "code",
   "execution_count": 12,
   "metadata": {
    "collapsed": false
   },
   "outputs": [
    {
     "data": {
      "text/plain": [
       "<matplotlib.text.Text at 0x11eb78710>"
      ]
     },
     "execution_count": 12,
     "metadata": {},
     "output_type": "execute_result"
    },
    {
     "data": {
      "image/png": "[encoded data removed]",
      "text/plain": [
       "<matplotlib.figure.Figure at 0x11e1fc750>"
      ]
     },
     "metadata": {},
     "output_type": "display_data"
    }
   ],
   "source": [
    "plt.plot(np.arange(len(losses)), losses)\n",
    "plt.xlabel(\"steps\")\n",
    "plt.ylabel(\"loss\")"
   ]
  },
  {
   "cell_type": "markdown",
   "metadata": {},
   "source": [
    "## Predictions"
   ]
  },
  {
   "cell_type": "code",
   "execution_count": 13,
   "metadata": {
    "collapsed": false
   },
   "outputs": [
    {
     "data": {
      "text/plain": [
       "<matplotlib.text.Text at 0x11ed2b9d0>"
      ]
     },
     "execution_count": 13,
     "metadata": {},
     "output_type": "execute_result"
    },
    {
     "data": {
      "image/png": "[encoded data removed]",
      "text/plain": [
       "<matplotlib.figure.Figure at 0x11eb819d0>"
      ]
     },
     "metadata": {},
     "output_type": "display_data"
    }
   ],
   "source": [
    "ytest_ = np.dot(Xtest, W_val) + b_val\n",
    "plt.plot(np.arange(ytest.shape[0]), ytest, color=\"r\", label=\"test\")\n",
    "plt.plot(np.arange(ytest_.shape[0]), ytest_, color=\"b\", label=\"pred\")\n",
    "plt.legend(loc=\"best\")\n",
    "plt.ylabel(\"cases\")\n",
    "plt.xlabel(\"prices\")"
   ]
  },
  {
   "cell_type": "code",
   "execution_count": null,
   "metadata": {
    "collapsed": true
   },
   "outputs": [],
   "source": []
  }
 ],
 "metadata": {
  "kernelspec": {
   "display_name": "Python 2",
   "language": "python",
   "name": "python2"
  },
  "language_info": {
   "codemirror_mode": {
    "name": "ipython",
    "version": 2
   },
   "file_extension": ".py",
   "mimetype": "text/x-python",
   "name": "python",
   "nbconvert_exporter": "python",
   "pygments_lexer": "ipython2",
   "version": "2.7.13"
  }
 },
 "nbformat": 4,
 "nbformat_minor": 2
}
