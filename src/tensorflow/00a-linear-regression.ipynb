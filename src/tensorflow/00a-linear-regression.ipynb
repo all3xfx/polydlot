{
 "cells": [
  {
   "cell_type": "markdown",
   "metadata": {},
   "source": [
    "# Linear Regression with Boston Housing Dataset"
   ]
  },
  {
   "cell_type": "code",
   "execution_count": 1,
   "metadata": {
    "collapsed": true
   },
   "outputs": [],
   "source": [
    "from __future__ import division, print_function\n",
    "from sklearn.preprocessing import StandardScaler\n",
    "from sklearn.model_selection import train_test_split\n",
    "import tensorflow as tf\n",
    "import matplotlib.pyplot as plt\n",
    "import numpy as np\n",
    "import os\n",
    "import pandas as pd\n",
    "import requests\n",
    "%matplotlib inline"
   ]
  },
  {
   "cell_type": "code",
   "execution_count": 2,
   "metadata": {
    "collapsed": true
   },
   "outputs": [],
   "source": [
    "DATA_DIR = \"../../data\""
   ]
  },
  {
   "cell_type": "markdown",
   "metadata": {},
   "source": [
    "## Prepare Data"
   ]
  },
  {
   "cell_type": "code",
   "execution_count": 3,
   "metadata": {
    "collapsed": false
   },
   "outputs": [
    {
     "name": "stdout",
     "output_type": "stream",
     "text": [
      "(506, 13) (506, 1)\n"
     ]
    }
   ],
   "source": [
    "fdata = open(os.path.join(DATA_DIR, \"housing.data\"), \"rb\")\n",
    "data, prices = [], []\n",
    "for line in fdata:\n",
    "    cols = [float(x) for x in line.strip().split()]\n",
    "    data.append(np.array(cols[:-1]))\n",
    "    prices.append(cols[-1])\n",
    "fdata.close()\n",
    "\n",
    "X = np.array(data)\n",
    "y = np.array(prices).reshape(-1, 1)\n",
    "print(X.shape, y.shape)"
   ]
  },
  {
   "cell_type": "code",
   "execution_count": 4,
   "metadata": {
    "collapsed": false
   },
   "outputs": [
    {
     "data": {
      "text/plain": [
       "array([  6.32000000e-03,   1.80000000e+01,   2.31000000e+00,\n",
       "         0.00000000e+00,   5.38000000e-01,   6.57500000e+00,\n",
       "         6.52000000e+01,   4.09000000e+00,   1.00000000e+00,\n",
       "         2.96000000e+02,   1.53000000e+01,   3.96900000e+02,\n",
       "         4.98000000e+00])"
      ]
     },
     "execution_count": 4,
     "metadata": {},
     "output_type": "execute_result"
    }
   ],
   "source": [
    "X[0]"
   ]
  },
  {
   "cell_type": "code",
   "execution_count": 5,
   "metadata": {
    "collapsed": false
   },
   "outputs": [],
   "source": [
    "scaler = StandardScaler()\n",
    "Xs = scaler.fit_transform(X)"
   ]
  },
  {
   "cell_type": "code",
   "execution_count": 6,
   "metadata": {
    "collapsed": false
   },
   "outputs": [
    {
     "name": "stdout",
     "output_type": "stream",
     "text": [
      "(455, 13) (455, 1) (51, 13) (51, 1)\n"
     ]
    }
   ],
   "source": [
    "Xtrain, Xtest, ytrain, ytest = train_test_split(Xs, y, train_size=0.9)\n",
    "print(Xtrain.shape, ytrain.shape, Xtest.shape, ytest.shape)"
   ]
  },
  {
   "cell_type": "markdown",
   "metadata": {},
   "source": [
    "## Define Network"
   ]
  },
  {
   "cell_type": "code",
   "execution_count": 28,
   "metadata": {
    "collapsed": true
   },
   "outputs": [],
   "source": [
    "X = tf.placeholder(tf.float32, [None, 13], name=\"X\")\n",
    "y = tf.placeholder(tf.float32, [None, 1], name=\"y\")"
   ]
  },
  {
   "cell_type": "code",
   "execution_count": 29,
   "metadata": {
    "collapsed": true
   },
   "outputs": [],
   "source": [
    "W = tf.Variable(tf.random_normal([13, 1]), name=\"W\")\n",
    "b = tf.Variable(tf.random_normal([1, 1]), name=\"b\")"
   ]
  },
  {
   "cell_type": "code",
   "execution_count": 30,
   "metadata": {
    "collapsed": true
   },
   "outputs": [],
   "source": [
    "y_ = tf.add(tf.matmul(X, W), b)"
   ]
  },
  {
   "cell_type": "code",
   "execution_count": 31,
   "metadata": {
    "collapsed": true
   },
   "outputs": [],
   "source": [
    "loss = tf.reduce_mean(tf.pow(y - y_, 2))"
   ]
  },
  {
   "cell_type": "code",
   "execution_count": 32,
   "metadata": {
    "collapsed": true
   },
   "outputs": [],
   "source": [
    "optimizer = tf.train.AdamOptimizer(0.001).minimize(loss)"
   ]
  },
  {
   "cell_type": "markdown",
   "metadata": {},
   "source": [
    "## Train Network"
   ]
  },
  {
   "cell_type": "code",
   "execution_count": 33,
   "metadata": {
    "collapsed": false
   },
   "outputs": [
    {
     "name": "stdout",
     "output_type": "stream",
     "text": [
      "# steps: 1000, loss: 507.533, epsilon: 0.06183\n",
      "# steps: 2000, loss: 452.737, epsilon: 0.04904\n",
      "# steps: 3000, loss: 407.861, epsilon: 0.04147\n",
      "# steps: 4000, loss: 368.677, epsilon: 0.03729\n",
      "# steps: 5000, loss: 332.842, epsilon: 0.03452\n",
      "# steps: 6000, loss: 299.624, epsilon: 0.03198\n",
      "# steps: 7000, loss: 268.803, epsilon: 0.02966\n",
      "# steps: 8000, loss: 240.127, epsilon: 0.02766\n",
      "# steps: 9000, loss: 213.392, epsilon: 0.02583\n",
      "# steps: 10000, loss: 188.521, epsilon: 0.02397\n",
      "# steps: 11000, loss: 165.497, epsilon: 0.02211\n",
      "# steps: 12000, loss: 144.309, epsilon: 0.02028\n",
      "# steps: 13000, loss: 124.942, epsilon: 0.01849\n",
      "# steps: 14000, loss: 107.382, epsilon: 0.01665\n",
      "# steps: 15000, loss: 91.611, epsilon: 0.01490\n",
      "# steps: 16000, loss: 77.608, epsilon: 0.01313\n",
      "# steps: 17000, loss: 65.346, epsilon: 0.01139\n",
      "# steps: 18000, loss: 54.794, epsilon: 0.00972\n",
      "# steps: 19000, loss: 45.913, epsilon: 0.00806\n",
      "# steps: 20000, loss: 38.651, epsilon: 0.00647\n",
      "# steps: 21000, loss: 32.941, epsilon: 0.00496\n",
      "# steps: 22000, loss: 28.694, epsilon: 0.00356\n",
      "# steps: 23000, loss: 25.783, epsilon: 0.00230\n",
      "# steps: 24000, loss: 24.030, epsilon: 0.00125\n",
      "# steps: 25000, loss: 23.181, epsilon: 0.00051\n",
      "# steps: 26000, loss: 22.902, epsilon: 0.00011\n",
      "# steps: 26786, loss: 22.859, epsilon: 0.00001\n"
     ]
    }
   ],
   "source": [
    "losses, preds = [], []\n",
    "with tf.Session() as sess:\n",
    "    sess.run(tf.global_variables_initializer())\n",
    "    prev_loss, epsilon, num_steps = None, None, 0\n",
    "    while True:\n",
    "        if num_steps % 1000 == 0 and num_steps > 0:\n",
    "            print(\"# steps: {:d}, loss: {:.3f}, epsilon: {:.5f}\"\n",
    "                .format(num_steps, prev_loss, epsilon))\n",
    "        _, loss_val = sess.run([optimizer, loss], feed_dict={\n",
    "            X: Xtrain, y: ytrain})\n",
    "        losses.append(loss_val)\n",
    "        if prev_loss == None:\n",
    "            epsilon = loss_val\n",
    "        else:\n",
    "            epsilon = prev_loss - loss_val\n",
    "        if epsilon < 1e-5:\n",
    "            break\n",
    "        prev_loss = loss_val\n",
    "        num_steps += 1\n",
    "    print(\"# steps: {:d}, loss: {:.3f}, epsilon: {:.5f}\"\n",
    "        .format(num_steps, prev_loss, epsilon))\n",
    "    W_val, b_val = sess.run([W, b])"
   ]
  },
  {
   "cell_type": "code",
   "execution_count": 34,
   "metadata": {
    "collapsed": false
   },
   "outputs": [
    {
     "data": {
      "text/plain": [
       "<matplotlib.text.Text at 0x11a326ed0>"
      ]
     },
     "execution_count": 34,
     "metadata": {},
     "output_type": "execute_result"
    },
    {
     "data": {
      "image/png": "[encoded data removed]",
      "text/plain": [
       "<matplotlib.figure.Figure at 0x119fb4510>"
      ]
     },
     "metadata": {},
     "output_type": "display_data"
    }
   ],
   "source": [
    "plt.plot(np.arange(len(losses)), losses)\n",
    "plt.xlabel(\"steps\")\n",
    "plt.ylabel(\"loss\")"
   ]
  },
  {
   "cell_type": "markdown",
   "metadata": {},
   "source": [
    "## Predictions"
   ]
  },
  {
   "cell_type": "code",
   "execution_count": 52,
   "metadata": {
    "collapsed": false
   },
   "outputs": [
    {
     "data": {
      "text/plain": [
       "<matplotlib.text.Text at 0x11a6a0450>"
      ]
     },
     "execution_count": 52,
     "metadata": {},
     "output_type": "execute_result"
    },
    {
     "data": {
      "image/png": "[encoded data removed]",
      "text/plain": [
       "<matplotlib.figure.Figure at 0x11a776150>"
      ]
     },
     "metadata": {},
     "output_type": "display_data"
    }
   ],
   "source": [
    "from sklearn.metrics import accuracy_score\n",
    "\n",
    "ytest_ = np.dot(Xtest, W_val) + b_val\n",
    "plt.plot(np.arange(ytest.shape[0]), ytest, color=\"r\", label=\"test\")\n",
    "plt.plot(np.arange(ytest_.shape[0]), ytest_, color=\"b\", label=\"pred\")\n",
    "plt.legend(loc=\"best\")\n",
    "plt.ylabel(\"cases\")\n",
    "plt.xlabel(\"prices\")"
   ]
  },
  {
   "cell_type": "code",
   "execution_count": null,
   "metadata": {
    "collapsed": true
   },
   "outputs": [],
   "source": []
  }
 ],
 "metadata": {
  "kernelspec": {
   "display_name": "Python 2",
   "language": "python",
   "name": "python2"
  },
  "language_info": {
   "codemirror_mode": {
    "name": "ipython",
    "version": 2
   },
   "file_extension": ".py",
   "mimetype": "text/x-python",
   "name": "python",
   "nbconvert_exporter": "python",
   "pygments_lexer": "ipython2",
   "version": "2.7.13"
  }
 },
 "nbformat": 4,
 "nbformat_minor": 2
}
