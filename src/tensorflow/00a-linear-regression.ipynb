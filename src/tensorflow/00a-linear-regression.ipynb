{
 "cells": [
  {
   "cell_type": "markdown",
   "metadata": {},
   "source": [
    "# Linear Regression with Boston Housing Dataset"
   ]
  },
  {
   "cell_type": "code",
   "execution_count": 1,
   "metadata": {
    "collapsed": true
   },
   "outputs": [],
   "source": [
    "from __future__ import division, print_function\n",
    "from sklearn.preprocessing import StandardScaler\n",
    "from sklearn.model_selection import train_test_split\n",
    "import tensorflow as tf\n",
    "import matplotlib.pyplot as plt\n",
    "import numpy as np\n",
    "import os\n",
    "%matplotlib inline"
   ]
  },
  {
   "cell_type": "code",
   "execution_count": 2,
   "metadata": {
    "collapsed": true
   },
   "outputs": [],
   "source": [
    "DATA_DIR = \"../../data\""
   ]
  },
  {
   "cell_type": "markdown",
   "metadata": {},
   "source": [
    "## Prepare Data"
   ]
  },
  {
   "cell_type": "code",
   "execution_count": 3,
   "metadata": {
    "collapsed": false
   },
   "outputs": [
    {
     "name": "stdout",
     "output_type": "stream",
     "text": [
      "(506, 13) (506, 1)\n"
     ]
    }
   ],
   "source": [
    "fdata = open(os.path.join(DATA_DIR, \"housing.data\"), \"rb\")\n",
    "data, prices = [], []\n",
    "for line in fdata:\n",
    "    cols = [float(x) for x in line.strip().split()]\n",
    "    data.append(np.array(cols[:-1]))\n",
    "    prices.append(cols[-1])\n",
    "fdata.close()\n",
    "\n",
    "X = np.array(data)\n",
    "y = np.array(prices).reshape(-1, 1)\n",
    "print(X.shape, y.shape)"
   ]
  },
  {
   "cell_type": "code",
   "execution_count": 4,
   "metadata": {
    "collapsed": false
   },
   "outputs": [],
   "source": [
    "scaler = StandardScaler()\n",
    "Xs = scaler.fit_transform(X)"
   ]
  },
  {
   "cell_type": "code",
   "execution_count": 5,
   "metadata": {
    "collapsed": false
   },
   "outputs": [
    {
     "name": "stdout",
     "output_type": "stream",
     "text": [
      "(455, 13) (455, 1) (51, 13) (51, 1)\n"
     ]
    }
   ],
   "source": [
    "Xtrain, Xtest, ytrain, ytest = train_test_split(Xs, y, train_size=0.9)\n",
    "print(Xtrain.shape, ytrain.shape, Xtest.shape, ytest.shape)"
   ]
  },
  {
   "cell_type": "markdown",
   "metadata": {},
   "source": [
    "## Define Network"
   ]
  },
  {
   "cell_type": "code",
   "execution_count": 6,
   "metadata": {
    "collapsed": true
   },
   "outputs": [],
   "source": [
    "X = tf.placeholder(tf.float32, [None, 13], name=\"X\")\n",
    "y = tf.placeholder(tf.float32, [None, 1], name=\"y\")"
   ]
  },
  {
   "cell_type": "code",
   "execution_count": 7,
   "metadata": {
    "collapsed": true
   },
   "outputs": [],
   "source": [
    "W = tf.Variable(tf.random_normal([13, 1]), name=\"W\")\n",
    "b = tf.Variable(tf.random_normal([1, 1]), name=\"b\")"
   ]
  },
  {
   "cell_type": "code",
   "execution_count": 8,
   "metadata": {
    "collapsed": true
   },
   "outputs": [],
   "source": [
    "y_ = tf.add(tf.matmul(X, W), b)"
   ]
  },
  {
   "cell_type": "code",
   "execution_count": 9,
   "metadata": {
    "collapsed": true
   },
   "outputs": [],
   "source": [
    "loss = tf.reduce_mean(tf.pow(y - y_, 2))"
   ]
  },
  {
   "cell_type": "code",
   "execution_count": 10,
   "metadata": {
    "collapsed": true
   },
   "outputs": [],
   "source": [
    "optimizer = tf.train.AdamOptimizer(0.001).minimize(loss)"
   ]
  },
  {
   "cell_type": "markdown",
   "metadata": {},
   "source": [
    "## Train Network"
   ]
  },
  {
   "cell_type": "code",
   "execution_count": 11,
   "metadata": {
    "collapsed": false
   },
   "outputs": [
    {
     "name": "stdout",
     "output_type": "stream",
     "text": [
      "# steps: 1000, loss: 500.648, epsilon: 0.05789\n",
      "# steps: 2000, loss: 448.461, epsilon: 0.04736\n",
      "# steps: 3000, loss: 404.681, epsilon: 0.04068\n",
      "# steps: 4000, loss: 366.364, epsilon: 0.03635\n",
      "# steps: 5000, loss: 331.426, epsilon: 0.03372\n",
      "# steps: 6000, loss: 298.793, epsilon: 0.03162\n",
      "# steps: 7000, loss: 268.219, epsilon: 0.02957\n",
      "# steps: 8000, loss: 239.627, epsilon: 0.02756\n",
      "# steps: 9000, loss: 212.935, epsilon: 0.02574\n",
      "# steps: 10000, loss: 188.102, epsilon: 0.02391\n",
      "# steps: 11000, loss: 165.114, epsilon: 0.02206\n",
      "# steps: 12000, loss: 143.958, epsilon: 0.02026\n",
      "# steps: 13000, loss: 124.623, epsilon: 0.01845\n",
      "# steps: 14000, loss: 107.092, epsilon: 0.01665\n",
      "# steps: 15000, loss: 91.349, epsilon: 0.01489\n",
      "# steps: 16000, loss: 77.372, epsilon: 0.01312\n",
      "# steps: 17000, loss: 65.134, epsilon: 0.01138\n",
      "# steps: 18000, loss: 54.604, epsilon: 0.00969\n",
      "# steps: 19000, loss: 45.743, epsilon: 0.00803\n",
      "# steps: 20000, loss: 38.500, epsilon: 0.00645\n",
      "# steps: 21000, loss: 32.806, epsilon: 0.00495\n",
      "# steps: 22000, loss: 28.573, epsilon: 0.00355\n",
      "# steps: 23000, loss: 25.674, epsilon: 0.00229\n",
      "# steps: 24000, loss: 23.930, epsilon: 0.00124\n",
      "# steps: 25000, loss: 23.087, epsilon: 0.00050\n",
      "# steps: 26000, loss: 22.812, epsilon: 0.00011\n",
      "# steps: 26784, loss: 22.770, epsilon: 0.00001\n"
     ]
    }
   ],
   "source": [
    "losses, preds = [], []\n",
    "with tf.Session() as sess:\n",
    "    sess.run(tf.global_variables_initializer())\n",
    "    prev_loss, epsilon, num_steps = None, None, 0\n",
    "    while True:\n",
    "        if num_steps % 1000 == 0 and num_steps > 0:\n",
    "            print(\"# steps: {:d}, loss: {:.3f}, epsilon: {:.5f}\"\n",
    "                .format(num_steps, prev_loss, epsilon))\n",
    "        _, loss_val = sess.run([optimizer, loss], feed_dict={\n",
    "            X: Xtrain, y: ytrain})\n",
    "        losses.append(loss_val)\n",
    "        if prev_loss == None:\n",
    "            epsilon = loss_val\n",
    "        else:\n",
    "            epsilon = prev_loss - loss_val\n",
    "        if epsilon < 1e-5:\n",
    "            break\n",
    "        prev_loss = loss_val\n",
    "        num_steps += 1\n",
    "    print(\"# steps: {:d}, loss: {:.3f}, epsilon: {:.5f}\"\n",
    "        .format(num_steps, prev_loss, epsilon))\n",
    "    W_val, b_val = sess.run([W, b])"
   ]
  },
  {
   "cell_type": "code",
   "execution_count": 12,
   "metadata": {
    "collapsed": false
   },
   "outputs": [
    {
     "data": {
      "text/plain": [
       "<matplotlib.text.Text at 0x1155b1f50>"
      ]
     },
     "execution_count": 12,
     "metadata": {},
     "output_type": "execute_result"
    },
    {
     "data": {
      "image/png": "[encoded data removed]",
      "text/plain": [
       "<matplotlib.figure.Figure at 0x114bf3c10>"
      ]
     },
     "metadata": {},
     "output_type": "display_data"
    }
   ],
   "source": [
    "plt.plot(np.arange(len(losses)), losses)\n",
    "plt.xlabel(\"steps\")\n",
    "plt.ylabel(\"loss\")"
   ]
  },
  {
   "cell_type": "markdown",
   "metadata": {},
   "source": [
    "## Predictions"
   ]
  },
  {
   "cell_type": "code",
   "execution_count": 13,
   "metadata": {
    "collapsed": false
   },
   "outputs": [
    {
     "data": {
      "text/plain": [
       "<matplotlib.text.Text at 0x1157ddc10>"
      ]
     },
     "execution_count": 13,
     "metadata": {},
     "output_type": "execute_result"
    },
    {
     "data": {
      "image/png": "[encoded data removed]",
      "text/plain": [
       "<matplotlib.figure.Figure at 0x115617590>"
      ]
     },
     "metadata": {},
     "output_type": "display_data"
    }
   ],
   "source": [
    "ytest_ = np.dot(Xtest, W_val) + b_val\n",
    "plt.plot(np.arange(ytest.shape[0]), ytest, color=\"r\", label=\"test\")\n",
    "plt.plot(np.arange(ytest_.shape[0]), ytest_, color=\"b\", label=\"pred\")\n",
    "plt.legend(loc=\"best\")\n",
    "plt.ylabel(\"cases\")\n",
    "plt.xlabel(\"prices\")"
   ]
  },
  {
   "cell_type": "code",
   "execution_count": null,
   "metadata": {
    "collapsed": true
   },
   "outputs": [],
   "source": []
  }
 ],
 "metadata": {
  "kernelspec": {
   "display_name": "Python 2",
   "language": "python",
   "name": "python2"
  },
  "language_info": {
   "codemirror_mode": {
    "name": "ipython",
    "version": 2
   },
   "file_extension": ".py",
   "mimetype": "text/x-python",
   "name": "python",
   "nbconvert_exporter": "python",
   "pygments_lexer": "ipython2",
   "version": "2.7.13"
  }
 },
 "nbformat": 4,
 "nbformat_minor": 2
}
