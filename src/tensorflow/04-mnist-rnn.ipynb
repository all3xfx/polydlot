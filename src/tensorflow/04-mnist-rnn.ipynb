{
 "cells": [
  {
   "cell_type": "markdown",
   "metadata": {},
   "source": [
    "# MNIST Digit Classification - RNN"
   ]
  },
  {
   "cell_type": "code",
   "execution_count": 1,
   "metadata": {
    "collapsed": false
   },
   "outputs": [],
   "source": [
    "from __future__ import division, print_function\n",
    "from tensorflow.contrib import keras\n",
    "from sklearn.metrics import accuracy_score, confusion_matrix\n",
    "from sklearn.preprocessing import OneHotEncoder\n",
    "import matplotlib.pyplot as plt\n",
    "import numpy as np\n",
    "import os\n",
    "import tensorflow as tf\n",
    "%matplotlib inline"
   ]
  },
  {
   "cell_type": "code",
   "execution_count": 2,
   "metadata": {
    "collapsed": true
   },
   "outputs": [],
   "source": [
    "DATA_DIR = \"../../data\"\n",
    "TRAIN_FILE = os.path.join(DATA_DIR, \"mnist_train.csv\")\n",
    "TEST_FILE = os.path.join(DATA_DIR, \"mnist_test.csv\")\n",
    "\n",
    "LOG_DIR = os.path.join(DATA_DIR, \"tf-mnist-rnn-logs\")\n",
    "MODEL_FILE = os.path.join(DATA_DIR, \"tf-mnist-rnn\")\n",
    "\n",
    "IMG_SIZE = 28\n",
    "LEARNING_RATE = 0.001\n",
    "BATCH_SIZE = 128\n",
    "NUM_CLASSES = 10\n",
    "NUM_EPOCHS = 5"
   ]
  },
  {
   "cell_type": "markdown",
   "metadata": {},
   "source": [
    "## Prepare Data"
   ]
  },
  {
   "cell_type": "code",
   "execution_count": 3,
   "metadata": {
    "collapsed": false
   },
   "outputs": [
    {
     "name": "stdout",
     "output_type": "stream",
     "text": [
      "mnist_train.csv: 0 lines read\n",
      "mnist_train.csv: 10000 lines read\n",
      "mnist_train.csv: 20000 lines read\n",
      "mnist_train.csv: 30000 lines read\n",
      "mnist_train.csv: 40000 lines read\n",
      "mnist_train.csv: 50000 lines read\n",
      "mnist_train.csv: 60000 lines read\n",
      "mnist_test.csv: 0 lines read\n",
      "mnist_test.csv: 10000 lines read\n",
      "(60000, 28, 28) (60000,) (10000, 28, 28) (10000,)\n"
     ]
    }
   ],
   "source": [
    "def parse_file(filename):\n",
    "    xdata, ydata = [], []\n",
    "    fin = open(filename, \"rb\")\n",
    "    i = 0\n",
    "    for line in fin:\n",
    "        if i % 10000 == 0:\n",
    "            print(\"{:s}: {:d} lines read\".format(\n",
    "                os.path.basename(filename), i))\n",
    "        cols = line.strip().split(\",\")\n",
    "        ydata.append(int(cols[0]))\n",
    "        xdata.append(np.reshape(\n",
    "            np.array([float(x) / 255. for x in cols[1:]]),\n",
    "            (IMG_SIZE, IMG_SIZE)))\n",
    "        i += 1\n",
    "    fin.close()\n",
    "    print(\"{:s}: {:d} lines read\".format(os.path.basename(filename), i))\n",
    "    y = np.array(ydata).astype(\"float32\")\n",
    "    X = np.array(xdata).astype(\"float32\")\n",
    "    return X, y\n",
    "\n",
    "Xtrain, ytrain = parse_file(TRAIN_FILE)\n",
    "Xtest, ytest = parse_file(TEST_FILE)\n",
    "print(Xtrain.shape, ytrain.shape, Xtest.shape, ytest.shape)"
   ]
  },
  {
   "cell_type": "code",
   "execution_count": 4,
   "metadata": {
    "collapsed": false
   },
   "outputs": [
    {
     "name": "stdout",
     "output_type": "stream",
     "text": [
      "(128, 28, 28) float32 (128, 10) float32\n"
     ]
    }
   ],
   "source": [
    "def datagen(X, y, batch_size=BATCH_SIZE, num_classes=NUM_CLASSES):\n",
    "    ohe = OneHotEncoder(n_values=num_classes)\n",
    "    while True:\n",
    "        shuffled_indices = np.random.permutation(np.arange(len(y)))\n",
    "        num_batches = len(y) // batch_size\n",
    "        for bid in range(num_batches):\n",
    "            batch_indices = shuffled_indices[bid*batch_size:(bid+1)*batch_size]\n",
    "            Xbatch = np.zeros((batch_size, X.shape[1], X.shape[2]), \n",
    "                              dtype=\"float32\")\n",
    "            Ybatch = np.zeros((batch_size, num_classes), dtype=\"float32\")\n",
    "            for i in range(batch_size):\n",
    "                Xbatch[i] = X[batch_indices[i]]\n",
    "                Ybatch[i] = ohe.fit_transform(y[batch_indices[i]]).todense()\n",
    "            yield Xbatch, Ybatch\n",
    "\n",
    "self_test_gen = datagen(Xtrain, ytrain)\n",
    "Xbatch, Ybatch = self_test_gen.next()\n",
    "print(Xbatch.shape, Xbatch.dtype, Ybatch.shape, Ybatch.dtype)"
   ]
  },
  {
   "cell_type": "markdown",
   "metadata": {},
   "source": [
    "## Define Network"
   ]
  },
  {
   "cell_type": "code",
   "execution_count": 5,
   "metadata": {
    "collapsed": true
   },
   "outputs": [],
   "source": [
    "X = tf.placeholder(tf.float32, [BATCH_SIZE, IMG_SIZE, IMG_SIZE], name=\"X\")\n",
    "Y = tf.placeholder(tf.float32, [BATCH_SIZE, NUM_CLASSES], name=\"Y\")"
   ]
  },
  {
   "cell_type": "code",
   "execution_count": 6,
   "metadata": {
    "collapsed": false
   },
   "outputs": [],
   "source": [
    "# Current data input shape: (batch_size, n_steps, n_input)\n",
    "# Required shape: 'n_steps' tensors list of shape (batch_size, n_input)\n",
    "x = tf.unstack(X, IMG_SIZE, 1)\n",
    "lstm_cell = tf.contrib.rnn.BasicLSTMCell(512)\n",
    "lstm_outputs, lstm_states = tf.contrib.rnn.static_rnn(lstm_cell, x, \n",
    "                                                      dtype=tf.float32)\n",
    "# # Linear activation, using rnn inner loop last output\n",
    "lstm_ctx = lstm_outputs[-1]\n",
    "\n",
    "# dropout\n",
    "H1 = tf.nn.dropout(lstm_ctx, 0.2)\n",
    "\n",
    "# Fully connected layer\n",
    "W = tf.Variable(tf.truncated_normal(shape=[512, NUM_CLASSES], \n",
    "                                    stddev=0.01))\n",
    "b = tf.Variable(tf.zeros(shape=[NUM_CLASSES]))\n",
    "Y_ = tf.nn.softmax(tf.add(tf.matmul(H1, W), b))"
   ]
  },
  {
   "cell_type": "code",
   "execution_count": 7,
   "metadata": {
    "collapsed": false
   },
   "outputs": [],
   "source": [
    "loss = tf.reduce_mean(tf.nn.softmax_cross_entropy_with_logits(\n",
    "    logits=Y_, labels=Y))\n",
    "optimizer = tf.train.AdamOptimizer(LEARNING_RATE).minimize(loss)"
   ]
  },
  {
   "cell_type": "code",
   "execution_count": 8,
   "metadata": {
    "collapsed": false
   },
   "outputs": [],
   "source": [
    "correct_preds = tf.equal(tf.argmax(Y_, 1), tf.argmax(Y, 1))\n",
    "accuracy = tf.reduce_mean(tf.cast(correct_preds, tf.float32))"
   ]
  },
  {
   "cell_type": "code",
   "execution_count": 9,
   "metadata": {
    "collapsed": true
   },
   "outputs": [],
   "source": [
    "tf.summary.scalar(\"loss\", loss)\n",
    "tf.summary.scalar(\"accuracy\", accuracy)\n",
    "# Merge all summaries into a single op\n",
    "summary_op = tf.summary.merge_all()"
   ]
  },
  {
   "cell_type": "markdown",
   "metadata": {},
   "source": [
    "## Train Network"
   ]
  },
  {
   "cell_type": "code",
   "execution_count": 10,
   "metadata": {
    "collapsed": false
   },
   "outputs": [
    {
     "name": "stdout",
     "output_type": "stream",
     "text": [
      "Epoch 1/5: loss=1.797, accuracy=0.670\n",
      "Epoch 2/5: loss=1.584, accuracy=0.879\n",
      "Epoch 3/5: loss=1.542, accuracy=0.920\n",
      "Epoch 4/5: loss=1.525, accuracy=0.936\n",
      "Epoch 5/5: loss=1.512, accuracy=0.949\n"
     ]
    }
   ],
   "source": [
    "history = []\n",
    "sess = tf.Session()\n",
    "with sess.as_default():\n",
    "    \n",
    "    # shuts off \"harmless warning\", see\n",
    "    # https://github.com/tensorflow/tensorflow/issues/9939\n",
    "    if (tf.get_collection_ref(\"LAYER_NAME_UIDS\") is not None and \n",
    "            len(tf.get_collection_ref(\"LAYER_NAME_UIDS\")) > 0):\n",
    "        del tf.get_collection_ref('LAYER_NAME_UIDS')[0]\n",
    "\n",
    "    sess.run(tf.global_variables_initializer())\n",
    "    saver = tf.train.Saver()\n",
    "    logger = tf.summary.FileWriter(LOG_DIR, sess.graph)\n",
    "\n",
    "    train_gen = datagen(Xtrain, ytrain, BATCH_SIZE)\n",
    "    num_batches = len(Xtrain) // BATCH_SIZE\n",
    "    for epoch in range(NUM_EPOCHS):\n",
    "        total_loss, total_acc = 0., 0.\n",
    "        for bid in range(num_batches):\n",
    "            # train\n",
    "            Xbatch, Ybatch = train_gen.next()\n",
    "            _, batch_loss, batch_acc, Ybatch_, summary = sess.run(\n",
    "                [optimizer, loss, accuracy, Y_, summary_op], \n",
    "                feed_dict={X: Xbatch, Y:Ybatch})\n",
    "            # write to tensorboard\n",
    "            logger.add_summary(summary, epoch * num_batches + bid)\n",
    "            # accumulate for reporting\n",
    "            total_loss += batch_loss\n",
    "            total_acc += batch_acc\n",
    "\n",
    "        total_loss /= num_batches\n",
    "        total_acc /= num_batches\n",
    "        print(\"Epoch {:d}/{:d}: loss={:.3f}, accuracy={:.3f}\".format(\n",
    "            (epoch + 1), NUM_EPOCHS, total_loss, total_acc))\n",
    "        \n",
    "        saver.save(sess, MODEL_FILE, (epoch + 1))\n",
    "        history.append((total_loss, total_acc))\n",
    "        \n",
    "    logger.close()"
   ]
  },
  {
   "cell_type": "code",
   "execution_count": 11,
   "metadata": {
    "collapsed": false
   },
   "outputs": [
    {
     "data": {
      "image/png": "[encoded data removed]",
      "text/plain": [
       "<matplotlib.figure.Figure at 0x12dc21f90>"
      ]
     },
     "metadata": {},
     "output_type": "display_data"
    }
   ],
   "source": [
    "losses = [x[0] for x in history]\n",
    "accs = [x[1] for x in history]\n",
    "\n",
    "plt.subplot(211)\n",
    "plt.title(\"Accuracy\")\n",
    "plt.plot(accs)\n",
    "\n",
    "plt.subplot(212)\n",
    "plt.title(\"Loss\")\n",
    "plt.plot(losses)\n",
    "\n",
    "plt.tight_layout()\n",
    "plt.show()"
   ]
  },
  {
   "cell_type": "markdown",
   "metadata": {},
   "source": [
    "## Visualize with Tensorboard\n",
    "\n",
    "We have also requested the total_loss and total_accuracy scalars to be logged in our computational graph, so the above charts can also be seen from the built-in tensorboard tool. The scalars are logged to the directory given by LOG_DIR, so we can start the tensorboard tool from the command line:\n",
    "\n",
    "    $ cd ../../data\n",
    "    $ tensorboard --logdir=tf-mnist-rnn-logs\n",
    "    Starting TensorBoard 54 at http://localhost:6006\n",
    "    (Press CTRL+C to quit)\n",
    "    \n",
    "We can then view the [visualizations on tensorboard] (http://localhost:6006)"
   ]
  },
  {
   "cell_type": "markdown",
   "metadata": {},
   "source": [
    "## Evaluate Network"
   ]
  },
  {
   "cell_type": "code",
   "execution_count": 12,
   "metadata": {
    "collapsed": false
   },
   "outputs": [
    {
     "name": "stdout",
     "output_type": "stream",
     "text": [
      "INFO:tensorflow:Restoring parameters from ../../data/tf-mnist-rnn-5\n",
      "Accuracy: 0.9542\n",
      "Confusion Matrix\n",
      "[[5648    0   35    0   21   12    2   16   23   63]\n",
      " [   1 6588    6    0    0    6   13   15    0    3]\n",
      " [   1   29 5893   73   29    6    7   66    7    0]\n",
      " [   0    6   35 5600    0    3    0    8    6    0]\n",
      " [  19    0    0   16 5551    9   41    9   60  130]\n",
      " [  25    0   52  183    4 5262   58   12  100   88]\n",
      " [ 160   24   30    0  137   21 5610    0   57    2]\n",
      " [   6   47   82   63    0    8    0 5955    0   39]\n",
      " [   6  103   47   95   38   12    4   24 5583  250]\n",
      " [   3    0    1   23  107    6    5   48    0 5468]]\n"
     ]
    }
   ],
   "source": [
    "BEST_MODEL = os.path.join(DATA_DIR, \"tf-mnist-rnn-5\")\n",
    "saver = tf.train.Saver()\n",
    "ys, ys_ = [], []\n",
    "with tf.Session() as sess:\n",
    "    sess.run(tf.global_variables_initializer())\n",
    "    saver.restore(sess, BEST_MODEL)\n",
    "    test_gen = datagen(Xtest, ytest, BATCH_SIZE)\n",
    "    val_loss, val_acc = 0., 0.\n",
    "    num_batches = len(Xtrain) // BATCH_SIZE\n",
    "    for _ in range(num_batches):\n",
    "        Xbatch, Ybatch = test_gen.next()\n",
    "        Ybatch_ = sess.run(Y_, feed_dict={X: Xbatch, Y:Ybatch})\n",
    "        ys.extend(np.argmax(Ybatch, axis=1))\n",
    "        ys_.extend(np.argmax(Ybatch_, axis=1))\n",
    "\n",
    "acc = accuracy_score(ys_, ys)\n",
    "cm = confusion_matrix(ys_, ys)\n",
    "print(\"Accuracy: {:.4f}\".format(acc))\n",
    "print(\"Confusion Matrix\")\n",
    "print(cm)"
   ]
  },
  {
   "cell_type": "code",
   "execution_count": null,
   "metadata": {
    "collapsed": true
   },
   "outputs": [],
   "source": []
  }
 ],
 "metadata": {
  "kernelspec": {
   "display_name": "Python 2",
   "language": "python",
   "name": "python2"
  },
  "language_info": {
   "codemirror_mode": {
    "name": "ipython",
    "version": 2
   },
   "file_extension": ".py",
   "mimetype": "text/x-python",
   "name": "python",
   "nbconvert_exporter": "python",
   "pygments_lexer": "ipython2",
   "version": "2.7.13"
  }
 },
 "nbformat": 4,
 "nbformat_minor": 2
}
